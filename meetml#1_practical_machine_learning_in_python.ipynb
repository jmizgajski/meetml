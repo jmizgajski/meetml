{
 "cells": [
  {
   "cell_type": "code",
   "execution_count": 1,
   "metadata": {
    "collapsed": false
   },
   "outputs": [
    {
     "data": {
      "application/javascript": [
       "IPython.load_extensions(\"calico-spell-check\");"
      ],
      "text/plain": [
       "<IPython.core.display.Javascript object>"
      ]
     },
     "metadata": {},
     "output_type": "display_data"
    }
   ],
   "source": [
    "%%javascript\n",
    "IPython.load_extensions(\"calico-spell-check\");"
   ]
  },
  {
   "cell_type": "code",
   "execution_count": 2,
   "metadata": {
    "collapsed": false
   },
   "outputs": [],
   "source": [
    "import pandas as pd\n",
    "import matplotlib\n",
    "matplotlib.use(u'Agg')\n",
    "import numpy as np\n",
    "from pylab import rcParams\n",
    "import matplotlib.pyplot as plt\n",
    "matplotlib.style.use(u'fivethirtyeight')"
   ]
  },
  {
   "cell_type": "code",
   "execution_count": 3,
   "metadata": {
    "collapsed": false
   },
   "outputs": [],
   "source": [
    "from IPython.display import Image, HTML, display\n",
    "def inline_figure_on_remote(plt, filename='tmp.png', auto_close=True):\n",
    "    plt.savefig(filename)\n",
    "    if auto_close:\n",
    "        plt.close()\n",
    "    return Image(filename=filename, width=400) "
   ]
  },
  {
   "cell_type": "markdown",
   "metadata": {},
   "source": [
    "#meet.ml #1 Practical machine learning in Python\n",
    "\n",
    "#Agenda\n",
    "\n",
    "###1. Hello world - Descriptive Statistics, Data Munging & Classification\n",
    "###2. Data acquistion - Pulling data from the web\n",
    "###3. Deep learning for computer vision - motivating example\n",
    "###4. Transfer learning - motivating example\n",
    "###5. Transfer learning on our dataset, similar image search\n",
    "###6. NLP for the lazy - word embeddings (word2vec)"
   ]
  },
  {
   "cell_type": "markdown",
   "metadata": {},
   "source": [
    "#Key libraries:\n",
    "###    graphlab-create (Dato)\n",
    "###    newspaper + NLTK,\n",
    "###    gensim,\n",
    "###   spacy\n",
    "###    NearPy"
   ]
  },
  {
   "cell_type": "markdown",
   "metadata": {},
   "source": [
    "##1. Hello world - Descriptive Statistics, Data Munging & Classification\n",
    "\n",
    "Our adventure begins with your boss dropping you this email:\n",
    "\n",
    "*\"Hey, we just finished a content analysis project with our BI team and we have this cool new [dataset](http://archive.ics.uci.edu/ml/machine-learning-databases/00332/OnlineNewsPopularity.zip) with loads of data about each article. We also have the number of shares for each article. I was hoping you could use this data to predict how many shares new articles will get. This would be amazing if we could know that!\"*\n",
    "\n",
    "Eager to show of your data science chops you fire up your cool new Mac, [install](https://dato.com/learn/userguide/install.html) Dato's Graphlab Create."
   ]
  },
  {
   "cell_type": "code",
   "execution_count": 4,
   "metadata": {
    "collapsed": false
   },
   "outputs": [],
   "source": [
    "import graphlab as gl"
   ]
  },
  {
   "cell_type": "markdown",
   "metadata": {},
   "source": [
    "Now you have to [download](http://archive.ics.uci.edu/ml/machine-learning-databases/00332/OnlineNewsPopularity.zip) the data and unzip it. Once you do it you will notice two files:\n",
    "```\n",
    "OnlineNewsPopularity.csv  OnlineNewsPopularity.names\n",
    "```\n",
    "The `.csv` file is clearly the dataset and what about `.names`? It is usually a good idea to have a look ;) Skip to section 5 and beyond for now (spoilers). From the file we can learn about available features - there are 58 of them + 2 non predictive attributes and one goal field : the number of shares. The features are derived from the article content and can be roughly put into following categories:\n",
    "\n",
    "- meta-data about content (number of links, images)\n",
    "- simple NLP aggregates (number of tokens, number of stop words)\n",
    "- aggregates about popularity of referenced content and keywords\n",
    "- article category\n",
    "- unsupervised article category (LDA with 5 topics)\n",
    "- day of publication\n",
    "- aggregates from sentiment and subjectivity analysis of the content\n",
    "\n",
    "The dataset looks quite comprehensive but you have a feeling that it might be missing raw content data such as exact keywords that were used. You disregard it for now and try your best with what you have, maybe it will be enough."
   ]
  },
  {
   "cell_type": "markdown",
   "metadata": {},
   "source": [
    "###First you need to import the dataset - this is super easy with Graphlab:"
   ]
  },
  {
   "cell_type": "code",
   "execution_count": 5,
   "metadata": {
    "collapsed": false
   },
   "outputs": [
    {
     "name": "stderr",
     "output_type": "stream",
     "text": [
      "/home/production/.virtualenvs/tailor_core/lib/python2.7/site-packages/requests/packages/urllib3/util/ssl_.py:100: InsecurePlatformWarning: A true SSLContext object is not available. This prevents urllib3 from configuring SSL appropriately and may cause certain SSL connections to fail. For more information, see https://urllib3.readthedocs.org/en/latest/security.html#insecureplatformwarning.\n",
      "  InsecurePlatformWarning\n",
      "2016-04-28 14:49:51,899 [INFO] graphlab.cython.cy_server, 176: GraphLab Create v1.8.5 started. Logging: /tmp/graphlab_server_1461847790.log\n"
     ]
    },
    {
     "name": "stdout",
     "output_type": "stream",
     "text": [
      "This commercial license of GraphLab Create is assigned to jmizgajski@moodly.org.\n"
     ]
    }
   ],
   "source": [
    "sf = gl.SFrame.read_csv('OnlineNewsPopularity/OnlineNewsPopularity.csv', verbose=False)"
   ]
  },
  {
   "cell_type": "markdown",
   "metadata": {},
   "source": [
    "A good idea right now would be to have a look at the features and their distribution. This is surprisingly easy with Graphlab - you just need to call `.show()` on the SFrame and it is going to show you key statistics and [box plots](https://en.wikipedia.org/wiki/Box_plot) pretty fast regardless of the size of the data! It still seems to be in beta but it comes in handy for simple tasks (and stay tuned - I heard the Dato guys have big plans for it)."
   ]
  },
  {
   "cell_type": "code",
   "execution_count": 6,
   "metadata": {
    "collapsed": false
   },
   "outputs": [
    {
     "data": {
      "text/html": [
       "<div style=\"max-height:1000px;max-width:1500px;overflow:auto;\"><table frame=\"box\" rules=\"cols\">\n",
       "    <tr>\n",
       "        <th style=\"padding-left: 1em; padding-right: 1em; text-align: center\">url</th>\n",
       "        <th style=\"padding-left: 1em; padding-right: 1em; text-align: center\">timedelta</th>\n",
       "        <th style=\"padding-left: 1em; padding-right: 1em; text-align: center\">n_tokens_title</th>\n",
       "        <th style=\"padding-left: 1em; padding-right: 1em; text-align: center\">n_tokens_content</th>\n",
       "        <th style=\"padding-left: 1em; padding-right: 1em; text-align: center\">n_unique_tokens</th>\n",
       "        <th style=\"padding-left: 1em; padding-right: 1em; text-align: center\">n_non_stop_words</th>\n",
       "    </tr>\n",
       "    <tr>\n",
       "        <td style=\"padding-left: 1em; padding-right: 1em; text-align: center; vertical-align: top\">http://mashable.com/2013/<br>01/07/amazon-instant- ...</td>\n",
       "        <td style=\"padding-left: 1em; padding-right: 1em; text-align: center; vertical-align: top\">731.0</td>\n",
       "        <td style=\"padding-left: 1em; padding-right: 1em; text-align: center; vertical-align: top\">12.0</td>\n",
       "        <td style=\"padding-left: 1em; padding-right: 1em; text-align: center; vertical-align: top\">219.0</td>\n",
       "        <td style=\"padding-left: 1em; padding-right: 1em; text-align: center; vertical-align: top\">0.663594466988</td>\n",
       "        <td style=\"padding-left: 1em; padding-right: 1em; text-align: center; vertical-align: top\">0.999999992308</td>\n",
       "    </tr>\n",
       "    <tr>\n",
       "        <td style=\"padding-left: 1em; padding-right: 1em; text-align: center; vertical-align: top\">http://mashable.com/2013/<br>01/07/ap-samsung- ...</td>\n",
       "        <td style=\"padding-left: 1em; padding-right: 1em; text-align: center; vertical-align: top\">731.0</td>\n",
       "        <td style=\"padding-left: 1em; padding-right: 1em; text-align: center; vertical-align: top\">9.0</td>\n",
       "        <td style=\"padding-left: 1em; padding-right: 1em; text-align: center; vertical-align: top\">255.0</td>\n",
       "        <td style=\"padding-left: 1em; padding-right: 1em; text-align: center; vertical-align: top\">0.604743080614</td>\n",
       "        <td style=\"padding-left: 1em; padding-right: 1em; text-align: center; vertical-align: top\">0.999999993289</td>\n",
       "    </tr>\n",
       "    <tr>\n",
       "        <td style=\"padding-left: 1em; padding-right: 1em; text-align: center; vertical-align: top\">http://mashable.com/2013/<br>01/07/apple-40-billion- ...</td>\n",
       "        <td style=\"padding-left: 1em; padding-right: 1em; text-align: center; vertical-align: top\">731.0</td>\n",
       "        <td style=\"padding-left: 1em; padding-right: 1em; text-align: center; vertical-align: top\">9.0</td>\n",
       "        <td style=\"padding-left: 1em; padding-right: 1em; text-align: center; vertical-align: top\">211.0</td>\n",
       "        <td style=\"padding-left: 1em; padding-right: 1em; text-align: center; vertical-align: top\">0.575129530699</td>\n",
       "        <td style=\"padding-left: 1em; padding-right: 1em; text-align: center; vertical-align: top\">0.999999991597</td>\n",
       "    </tr>\n",
       "</table>\n",
       "<table frame=\"box\" rules=\"cols\">\n",
       "    <tr>\n",
       "        <th style=\"padding-left: 1em; padding-right: 1em; text-align: center\">n_non_stop_unique_tokens</th>\n",
       "        <th style=\"padding-left: 1em; padding-right: 1em; text-align: center\">num_hrefs</th>\n",
       "        <th style=\"padding-left: 1em; padding-right: 1em; text-align: center\">num_self_hrefs</th>\n",
       "        <th style=\"padding-left: 1em; padding-right: 1em; text-align: center\">num_imgs</th>\n",
       "        <th style=\"padding-left: 1em; padding-right: 1em; text-align: center\">num_videos</th>\n",
       "        <th style=\"padding-left: 1em; padding-right: 1em; text-align: center\">average_token_length</th>\n",
       "        <th style=\"padding-left: 1em; padding-right: 1em; text-align: center\">num_keywords</th>\n",
       "    </tr>\n",
       "    <tr>\n",
       "        <td style=\"padding-left: 1em; padding-right: 1em; text-align: center; vertical-align: top\">0.815384609112</td>\n",
       "        <td style=\"padding-left: 1em; padding-right: 1em; text-align: center; vertical-align: top\">4.0</td>\n",
       "        <td style=\"padding-left: 1em; padding-right: 1em; text-align: center; vertical-align: top\">2.0</td>\n",
       "        <td style=\"padding-left: 1em; padding-right: 1em; text-align: center; vertical-align: top\">1.0</td>\n",
       "        <td style=\"padding-left: 1em; padding-right: 1em; text-align: center; vertical-align: top\">0.0</td>\n",
       "        <td style=\"padding-left: 1em; padding-right: 1em; text-align: center; vertical-align: top\">4.6803652968</td>\n",
       "        <td style=\"padding-left: 1em; padding-right: 1em; text-align: center; vertical-align: top\">5.0</td>\n",
       "    </tr>\n",
       "    <tr>\n",
       "        <td style=\"padding-left: 1em; padding-right: 1em; text-align: center; vertical-align: top\">0.79194630341</td>\n",
       "        <td style=\"padding-left: 1em; padding-right: 1em; text-align: center; vertical-align: top\">3.0</td>\n",
       "        <td style=\"padding-left: 1em; padding-right: 1em; text-align: center; vertical-align: top\">1.0</td>\n",
       "        <td style=\"padding-left: 1em; padding-right: 1em; text-align: center; vertical-align: top\">1.0</td>\n",
       "        <td style=\"padding-left: 1em; padding-right: 1em; text-align: center; vertical-align: top\">0.0</td>\n",
       "        <td style=\"padding-left: 1em; padding-right: 1em; text-align: center; vertical-align: top\">4.9137254902</td>\n",
       "        <td style=\"padding-left: 1em; padding-right: 1em; text-align: center; vertical-align: top\">4.0</td>\n",
       "    </tr>\n",
       "    <tr>\n",
       "        <td style=\"padding-left: 1em; padding-right: 1em; text-align: center; vertical-align: top\">0.66386554064</td>\n",
       "        <td style=\"padding-left: 1em; padding-right: 1em; text-align: center; vertical-align: top\">3.0</td>\n",
       "        <td style=\"padding-left: 1em; padding-right: 1em; text-align: center; vertical-align: top\">1.0</td>\n",
       "        <td style=\"padding-left: 1em; padding-right: 1em; text-align: center; vertical-align: top\">1.0</td>\n",
       "        <td style=\"padding-left: 1em; padding-right: 1em; text-align: center; vertical-align: top\">0.0</td>\n",
       "        <td style=\"padding-left: 1em; padding-right: 1em; text-align: center; vertical-align: top\">4.39336492891</td>\n",
       "        <td style=\"padding-left: 1em; padding-right: 1em; text-align: center; vertical-align: top\">6.0</td>\n",
       "    </tr>\n",
       "</table>\n",
       "<table frame=\"box\" rules=\"cols\">\n",
       "    <tr>\n",
       "        <th style=\"padding-left: 1em; padding-right: 1em; text-align: center\">data_channel_is_lifestyle</th>\n",
       "        <th style=\"padding-left: 1em; padding-right: 1em; text-align: center\">data_channel_is_entertain<br>ment ...</th>\n",
       "        <th style=\"padding-left: 1em; padding-right: 1em; text-align: center\">data_channel_is_bus</th>\n",
       "        <th style=\"padding-left: 1em; padding-right: 1em; text-align: center\">data_channel_is_socmed</th>\n",
       "        <th style=\"padding-left: 1em; padding-right: 1em; text-align: center\">data_channel_is_tech</th>\n",
       "    </tr>\n",
       "    <tr>\n",
       "        <td style=\"padding-left: 1em; padding-right: 1em; text-align: center; vertical-align: top\">0.0</td>\n",
       "        <td style=\"padding-left: 1em; padding-right: 1em; text-align: center; vertical-align: top\">1.0</td>\n",
       "        <td style=\"padding-left: 1em; padding-right: 1em; text-align: center; vertical-align: top\">0.0</td>\n",
       "        <td style=\"padding-left: 1em; padding-right: 1em; text-align: center; vertical-align: top\">0.0</td>\n",
       "        <td style=\"padding-left: 1em; padding-right: 1em; text-align: center; vertical-align: top\">0.0</td>\n",
       "    </tr>\n",
       "    <tr>\n",
       "        <td style=\"padding-left: 1em; padding-right: 1em; text-align: center; vertical-align: top\">0.0</td>\n",
       "        <td style=\"padding-left: 1em; padding-right: 1em; text-align: center; vertical-align: top\">0.0</td>\n",
       "        <td style=\"padding-left: 1em; padding-right: 1em; text-align: center; vertical-align: top\">1.0</td>\n",
       "        <td style=\"padding-left: 1em; padding-right: 1em; text-align: center; vertical-align: top\">0.0</td>\n",
       "        <td style=\"padding-left: 1em; padding-right: 1em; text-align: center; vertical-align: top\">0.0</td>\n",
       "    </tr>\n",
       "    <tr>\n",
       "        <td style=\"padding-left: 1em; padding-right: 1em; text-align: center; vertical-align: top\">0.0</td>\n",
       "        <td style=\"padding-left: 1em; padding-right: 1em; text-align: center; vertical-align: top\">0.0</td>\n",
       "        <td style=\"padding-left: 1em; padding-right: 1em; text-align: center; vertical-align: top\">1.0</td>\n",
       "        <td style=\"padding-left: 1em; padding-right: 1em; text-align: center; vertical-align: top\">0.0</td>\n",
       "        <td style=\"padding-left: 1em; padding-right: 1em; text-align: center; vertical-align: top\">0.0</td>\n",
       "    </tr>\n",
       "</table>\n",
       "<table frame=\"box\" rules=\"cols\">\n",
       "    <tr>\n",
       "        <th style=\"padding-left: 1em; padding-right: 1em; text-align: center\">data_channel_is_world</th>\n",
       "        <th style=\"padding-left: 1em; padding-right: 1em; text-align: center\">kw_min_min</th>\n",
       "        <th style=\"padding-left: 1em; padding-right: 1em; text-align: center\">kw_max_min</th>\n",
       "        <th style=\"padding-left: 1em; padding-right: 1em; text-align: center\">kw_avg_min</th>\n",
       "        <th style=\"padding-left: 1em; padding-right: 1em; text-align: center\">kw_min_max</th>\n",
       "        <th style=\"padding-left: 1em; padding-right: 1em; text-align: center\">kw_max_max</th>\n",
       "        <th style=\"padding-left: 1em; padding-right: 1em; text-align: center\">kw_avg_max</th>\n",
       "        <th style=\"padding-left: 1em; padding-right: 1em; text-align: center\">kw_min_avg</th>\n",
       "        <th style=\"padding-left: 1em; padding-right: 1em; text-align: center\">kw_max_avg</th>\n",
       "    </tr>\n",
       "    <tr>\n",
       "        <td style=\"padding-left: 1em; padding-right: 1em; text-align: center; vertical-align: top\">0.0</td>\n",
       "        <td style=\"padding-left: 1em; padding-right: 1em; text-align: center; vertical-align: top\">0.0</td>\n",
       "        <td style=\"padding-left: 1em; padding-right: 1em; text-align: center; vertical-align: top\">0.0</td>\n",
       "        <td style=\"padding-left: 1em; padding-right: 1em; text-align: center; vertical-align: top\">0.0</td>\n",
       "        <td style=\"padding-left: 1em; padding-right: 1em; text-align: center; vertical-align: top\">0.0</td>\n",
       "        <td style=\"padding-left: 1em; padding-right: 1em; text-align: center; vertical-align: top\">0.0</td>\n",
       "        <td style=\"padding-left: 1em; padding-right: 1em; text-align: center; vertical-align: top\">0.0</td>\n",
       "        <td style=\"padding-left: 1em; padding-right: 1em; text-align: center; vertical-align: top\">0.0</td>\n",
       "        <td style=\"padding-left: 1em; padding-right: 1em; text-align: center; vertical-align: top\">0.0</td>\n",
       "    </tr>\n",
       "    <tr>\n",
       "        <td style=\"padding-left: 1em; padding-right: 1em; text-align: center; vertical-align: top\">0.0</td>\n",
       "        <td style=\"padding-left: 1em; padding-right: 1em; text-align: center; vertical-align: top\">0.0</td>\n",
       "        <td style=\"padding-left: 1em; padding-right: 1em; text-align: center; vertical-align: top\">0.0</td>\n",
       "        <td style=\"padding-left: 1em; padding-right: 1em; text-align: center; vertical-align: top\">0.0</td>\n",
       "        <td style=\"padding-left: 1em; padding-right: 1em; text-align: center; vertical-align: top\">0.0</td>\n",
       "        <td style=\"padding-left: 1em; padding-right: 1em; text-align: center; vertical-align: top\">0.0</td>\n",
       "        <td style=\"padding-left: 1em; padding-right: 1em; text-align: center; vertical-align: top\">0.0</td>\n",
       "        <td style=\"padding-left: 1em; padding-right: 1em; text-align: center; vertical-align: top\">0.0</td>\n",
       "        <td style=\"padding-left: 1em; padding-right: 1em; text-align: center; vertical-align: top\">0.0</td>\n",
       "    </tr>\n",
       "    <tr>\n",
       "        <td style=\"padding-left: 1em; padding-right: 1em; text-align: center; vertical-align: top\">0.0</td>\n",
       "        <td style=\"padding-left: 1em; padding-right: 1em; text-align: center; vertical-align: top\">0.0</td>\n",
       "        <td style=\"padding-left: 1em; padding-right: 1em; text-align: center; vertical-align: top\">0.0</td>\n",
       "        <td style=\"padding-left: 1em; padding-right: 1em; text-align: center; vertical-align: top\">0.0</td>\n",
       "        <td style=\"padding-left: 1em; padding-right: 1em; text-align: center; vertical-align: top\">0.0</td>\n",
       "        <td style=\"padding-left: 1em; padding-right: 1em; text-align: center; vertical-align: top\">0.0</td>\n",
       "        <td style=\"padding-left: 1em; padding-right: 1em; text-align: center; vertical-align: top\">0.0</td>\n",
       "        <td style=\"padding-left: 1em; padding-right: 1em; text-align: center; vertical-align: top\">0.0</td>\n",
       "        <td style=\"padding-left: 1em; padding-right: 1em; text-align: center; vertical-align: top\">0.0</td>\n",
       "    </tr>\n",
       "</table>\n",
       "<table frame=\"box\" rules=\"cols\">\n",
       "    <tr>\n",
       "        <th style=\"padding-left: 1em; padding-right: 1em; text-align: center\">kw_avg_avg</th>\n",
       "        <th style=\"padding-left: 1em; padding-right: 1em; text-align: center\">self_reference_min_shares</th>\n",
       "        <th style=\"padding-left: 1em; padding-right: 1em; text-align: center\">self_reference_max_shares</th>\n",
       "        <th style=\"padding-left: 1em; padding-right: 1em; text-align: center\">self_reference_avg_shares<br>s ...</th>\n",
       "        <th style=\"padding-left: 1em; padding-right: 1em; text-align: center\">weekday_is_monday</th>\n",
       "    </tr>\n",
       "    <tr>\n",
       "        <td style=\"padding-left: 1em; padding-right: 1em; text-align: center; vertical-align: top\">0.0</td>\n",
       "        <td style=\"padding-left: 1em; padding-right: 1em; text-align: center; vertical-align: top\">496.0</td>\n",
       "        <td style=\"padding-left: 1em; padding-right: 1em; text-align: center; vertical-align: top\">496.0</td>\n",
       "        <td style=\"padding-left: 1em; padding-right: 1em; text-align: center; vertical-align: top\">496.0</td>\n",
       "        <td style=\"padding-left: 1em; padding-right: 1em; text-align: center; vertical-align: top\">1.0</td>\n",
       "    </tr>\n",
       "    <tr>\n",
       "        <td style=\"padding-left: 1em; padding-right: 1em; text-align: center; vertical-align: top\">0.0</td>\n",
       "        <td style=\"padding-left: 1em; padding-right: 1em; text-align: center; vertical-align: top\">0.0</td>\n",
       "        <td style=\"padding-left: 1em; padding-right: 1em; text-align: center; vertical-align: top\">0.0</td>\n",
       "        <td style=\"padding-left: 1em; padding-right: 1em; text-align: center; vertical-align: top\">0.0</td>\n",
       "        <td style=\"padding-left: 1em; padding-right: 1em; text-align: center; vertical-align: top\">1.0</td>\n",
       "    </tr>\n",
       "    <tr>\n",
       "        <td style=\"padding-left: 1em; padding-right: 1em; text-align: center; vertical-align: top\">0.0</td>\n",
       "        <td style=\"padding-left: 1em; padding-right: 1em; text-align: center; vertical-align: top\">918.0</td>\n",
       "        <td style=\"padding-left: 1em; padding-right: 1em; text-align: center; vertical-align: top\">918.0</td>\n",
       "        <td style=\"padding-left: 1em; padding-right: 1em; text-align: center; vertical-align: top\">918.0</td>\n",
       "        <td style=\"padding-left: 1em; padding-right: 1em; text-align: center; vertical-align: top\">1.0</td>\n",
       "    </tr>\n",
       "</table>\n",
       "<table frame=\"box\" rules=\"cols\">\n",
       "    <tr>\n",
       "        <th style=\"padding-left: 1em; padding-right: 1em; text-align: center\">weekday_is_tuesday</th>\n",
       "        <th style=\"padding-left: 1em; padding-right: 1em; text-align: center\">weekday_is_wednesday</th>\n",
       "        <th style=\"padding-left: 1em; padding-right: 1em; text-align: center\">weekday_is_thursday</th>\n",
       "        <th style=\"padding-left: 1em; padding-right: 1em; text-align: center\">weekday_is_friday</th>\n",
       "        <th style=\"padding-left: 1em; padding-right: 1em; text-align: center\">weekday_is_saturday</th>\n",
       "        <th style=\"padding-left: 1em; padding-right: 1em; text-align: center\">weekday_is_sunday</th>\n",
       "    </tr>\n",
       "    <tr>\n",
       "        <td style=\"padding-left: 1em; padding-right: 1em; text-align: center; vertical-align: top\">0.0</td>\n",
       "        <td style=\"padding-left: 1em; padding-right: 1em; text-align: center; vertical-align: top\">0.0</td>\n",
       "        <td style=\"padding-left: 1em; padding-right: 1em; text-align: center; vertical-align: top\">0.0</td>\n",
       "        <td style=\"padding-left: 1em; padding-right: 1em; text-align: center; vertical-align: top\">0.0</td>\n",
       "        <td style=\"padding-left: 1em; padding-right: 1em; text-align: center; vertical-align: top\">0.0</td>\n",
       "        <td style=\"padding-left: 1em; padding-right: 1em; text-align: center; vertical-align: top\">0.0</td>\n",
       "    </tr>\n",
       "    <tr>\n",
       "        <td style=\"padding-left: 1em; padding-right: 1em; text-align: center; vertical-align: top\">0.0</td>\n",
       "        <td style=\"padding-left: 1em; padding-right: 1em; text-align: center; vertical-align: top\">0.0</td>\n",
       "        <td style=\"padding-left: 1em; padding-right: 1em; text-align: center; vertical-align: top\">0.0</td>\n",
       "        <td style=\"padding-left: 1em; padding-right: 1em; text-align: center; vertical-align: top\">0.0</td>\n",
       "        <td style=\"padding-left: 1em; padding-right: 1em; text-align: center; vertical-align: top\">0.0</td>\n",
       "        <td style=\"padding-left: 1em; padding-right: 1em; text-align: center; vertical-align: top\">0.0</td>\n",
       "    </tr>\n",
       "    <tr>\n",
       "        <td style=\"padding-left: 1em; padding-right: 1em; text-align: center; vertical-align: top\">0.0</td>\n",
       "        <td style=\"padding-left: 1em; padding-right: 1em; text-align: center; vertical-align: top\">0.0</td>\n",
       "        <td style=\"padding-left: 1em; padding-right: 1em; text-align: center; vertical-align: top\">0.0</td>\n",
       "        <td style=\"padding-left: 1em; padding-right: 1em; text-align: center; vertical-align: top\">0.0</td>\n",
       "        <td style=\"padding-left: 1em; padding-right: 1em; text-align: center; vertical-align: top\">0.0</td>\n",
       "        <td style=\"padding-left: 1em; padding-right: 1em; text-align: center; vertical-align: top\">0.0</td>\n",
       "    </tr>\n",
       "</table>\n",
       "<table frame=\"box\" rules=\"cols\">\n",
       "    <tr>\n",
       "        <th style=\"padding-left: 1em; padding-right: 1em; text-align: center\">is_weekend</th>\n",
       "        <th style=\"padding-left: 1em; padding-right: 1em; text-align: center\">LDA_00</th>\n",
       "        <th style=\"padding-left: 1em; padding-right: 1em; text-align: center\">...</th>\n",
       "    </tr>\n",
       "    <tr>\n",
       "        <td style=\"padding-left: 1em; padding-right: 1em; text-align: center; vertical-align: top\">0.0</td>\n",
       "        <td style=\"padding-left: 1em; padding-right: 1em; text-align: center; vertical-align: top\">0.500331204081</td>\n",
       "        <td style=\"padding-left: 1em; padding-right: 1em; text-align: center; vertical-align: top\">...</td>\n",
       "    </tr>\n",
       "    <tr>\n",
       "        <td style=\"padding-left: 1em; padding-right: 1em; text-align: center; vertical-align: top\">0.0</td>\n",
       "        <td style=\"padding-left: 1em; padding-right: 1em; text-align: center; vertical-align: top\">0.799755687423</td>\n",
       "        <td style=\"padding-left: 1em; padding-right: 1em; text-align: center; vertical-align: top\">...</td>\n",
       "    </tr>\n",
       "    <tr>\n",
       "        <td style=\"padding-left: 1em; padding-right: 1em; text-align: center; vertical-align: top\">0.0</td>\n",
       "        <td style=\"padding-left: 1em; padding-right: 1em; text-align: center; vertical-align: top\">0.217792288518</td>\n",
       "        <td style=\"padding-left: 1em; padding-right: 1em; text-align: center; vertical-align: top\">...</td>\n",
       "    </tr>\n",
       "</table>\n",
       "[3 rows x 61 columns]<br/>\n",
       "</div>"
      ],
      "text/plain": [
       "Columns:\n",
       "\turl\tstr\n",
       "\ttimedelta\tfloat\n",
       "\tn_tokens_title\tfloat\n",
       "\tn_tokens_content\tfloat\n",
       "\tn_unique_tokens\tfloat\n",
       "\tn_non_stop_words\tfloat\n",
       "\tn_non_stop_unique_tokens\tfloat\n",
       "\tnum_hrefs\tfloat\n",
       "\tnum_self_hrefs\tfloat\n",
       "\tnum_imgs\tfloat\n",
       "\tnum_videos\tfloat\n",
       "\taverage_token_length\tfloat\n",
       "\tnum_keywords\tfloat\n",
       "\tdata_channel_is_lifestyle\tfloat\n",
       "\tdata_channel_is_entertainment\tfloat\n",
       "\tdata_channel_is_bus\tfloat\n",
       "\tdata_channel_is_socmed\tfloat\n",
       "\tdata_channel_is_tech\tfloat\n",
       "\tdata_channel_is_world\tfloat\n",
       "\tkw_min_min\tfloat\n",
       "\tkw_max_min\tfloat\n",
       "\tkw_avg_min\tfloat\n",
       "\tkw_min_max\tfloat\n",
       "\tkw_max_max\tfloat\n",
       "\tkw_avg_max\tfloat\n",
       "\tkw_min_avg\tfloat\n",
       "\tkw_max_avg\tfloat\n",
       "\tkw_avg_avg\tfloat\n",
       "\tself_reference_min_shares\tfloat\n",
       "\tself_reference_max_shares\tfloat\n",
       "\tself_reference_avg_sharess\tfloat\n",
       "\tweekday_is_monday\tfloat\n",
       "\tweekday_is_tuesday\tfloat\n",
       "\tweekday_is_wednesday\tfloat\n",
       "\tweekday_is_thursday\tfloat\n",
       "\tweekday_is_friday\tfloat\n",
       "\tweekday_is_saturday\tfloat\n",
       "\tweekday_is_sunday\tfloat\n",
       "\tis_weekend\tfloat\n",
       "\tLDA_00\tfloat\n",
       "\tLDA_01\tfloat\n",
       "\tLDA_02\tfloat\n",
       "\tLDA_03\tfloat\n",
       "\tLDA_04\tfloat\n",
       "\tglobal_subjectivity\tfloat\n",
       "\tglobal_sentiment_polarity\tfloat\n",
       "\tglobal_rate_positive_words\tfloat\n",
       "\tglobal_rate_negative_words\tfloat\n",
       "\trate_positive_words\tfloat\n",
       "\trate_negative_words\tfloat\n",
       "\tavg_positive_polarity\tfloat\n",
       "\tmin_positive_polarity\tfloat\n",
       "\tmax_positive_polarity\tfloat\n",
       "\tavg_negative_polarity\tfloat\n",
       "\tmin_negative_polarity\tfloat\n",
       "\tmax_negative_polarity\tfloat\n",
       "\ttitle_subjectivity\tfloat\n",
       "\ttitle_sentiment_polarity\tfloat\n",
       "\tabs_title_subjectivity\tfloat\n",
       "\tabs_title_sentiment_polarity\tfloat\n",
       "\tshares\tint\n",
       "\n",
       "Rows: 3\n",
       "\n",
       "Data:\n",
       "+-------------------------------+-----------+----------------+------------------+\n",
       "|              url              | timedelta | n_tokens_title | n_tokens_content |\n",
       "+-------------------------------+-----------+----------------+------------------+\n",
       "| http://mashable.com/2013/0... |   731.0   |      12.0      |      219.0       |\n",
       "| http://mashable.com/2013/0... |   731.0   |      9.0       |      255.0       |\n",
       "| http://mashable.com/2013/0... |   731.0   |      9.0       |      211.0       |\n",
       "+-------------------------------+-----------+----------------+------------------+\n",
       "+-----------------+------------------+--------------------------+-----------+\n",
       "| n_unique_tokens | n_non_stop_words | n_non_stop_unique_tokens | num_hrefs |\n",
       "+-----------------+------------------+--------------------------+-----------+\n",
       "|  0.663594466988 |  0.999999992308  |      0.815384609112      |    4.0    |\n",
       "|  0.604743080614 |  0.999999993289  |      0.79194630341       |    3.0    |\n",
       "|  0.575129530699 |  0.999999991597  |      0.66386554064       |    3.0    |\n",
       "+-----------------+------------------+--------------------------+-----------+\n",
       "+----------------+----------+------------+----------------------+--------------+\n",
       "| num_self_hrefs | num_imgs | num_videos | average_token_length | num_keywords |\n",
       "+----------------+----------+------------+----------------------+--------------+\n",
       "|      2.0       |   1.0    |    0.0     |     4.6803652968     |     5.0      |\n",
       "|      1.0       |   1.0    |    0.0     |     4.9137254902     |     4.0      |\n",
       "|      1.0       |   1.0    |    0.0     |    4.39336492891     |     6.0      |\n",
       "+----------------+----------+------------+----------------------+--------------+\n",
       "+---------------------------+-------------------------------+---------------------+\n",
       "| data_channel_is_lifestyle | data_channel_is_entertainment | data_channel_is_bus |\n",
       "+---------------------------+-------------------------------+---------------------+\n",
       "|            0.0            |              1.0              |         0.0         |\n",
       "|            0.0            |              0.0              |         1.0         |\n",
       "|            0.0            |              0.0              |         1.0         |\n",
       "+---------------------------+-------------------------------+---------------------+\n",
       "+------------------------+----------------------+-----------------------+------------+-----+\n",
       "| data_channel_is_socmed | data_channel_is_tech | data_channel_is_world | kw_min_min | ... |\n",
       "+------------------------+----------------------+-----------------------+------------+-----+\n",
       "|          0.0           |         0.0          |          0.0          |    0.0     | ... |\n",
       "|          0.0           |         0.0          |          0.0          |    0.0     | ... |\n",
       "|          0.0           |         0.0          |          0.0          |    0.0     | ... |\n",
       "+------------------------+----------------------+-----------------------+------------+-----+\n",
       "[3 rows x 61 columns]"
      ]
     },
     "execution_count": 6,
     "metadata": {},
     "output_type": "execute_result"
    }
   ],
   "source": [
    "sf.head(3)"
   ]
  },
  {
   "cell_type": "code",
   "execution_count": 7,
   "metadata": {
    "collapsed": true
   },
   "outputs": [],
   "source": [
    "features = list(set(sf.column_names()) - {'shares', 'url', 'timedelta'})"
   ]
  },
  {
   "cell_type": "markdown",
   "metadata": {},
   "source": [
    "### Now we can use scalable (sketch based) descriptive statistics"
   ]
  },
  {
   "cell_type": "code",
   "execution_count": 8,
   "metadata": {
    "collapsed": false
   },
   "outputs": [
    {
     "data": {
      "text/plain": [
       "\n",
       "+--------------------+---------------+----------+\n",
       "|        item        |     value     | is exact |\n",
       "+--------------------+---------------+----------+\n",
       "|       Length       |     39644     |   Yes    |\n",
       "|        Min         |      1.0      |   Yes    |\n",
       "|        Max         |    843300.0   |   Yes    |\n",
       "|        Mean        | 3395.38018363 |   Yes    |\n",
       "|        Sum         |  134606452.0  |   Yes    |\n",
       "|      Variance      | 135182573.713 |   Yes    |\n",
       "| Standard Deviation | 11626.8041057 |   Yes    |\n",
       "|  # Missing Values  |       0       |   Yes    |\n",
       "|  # unique values   |      1450     |    No    |\n",
       "+--------------------+---------------+----------+\n",
       "\n",
       "Most frequent items:\n",
       "+-------+------+------+------+------+------+------+------+------+------+------+\n",
       "| value | 1100 | 1200 | 1300 | 1400 | 1500 | 1000 | 1600 | 1700 | 1800 | 1900 |\n",
       "+-------+------+------+------+------+------+------+------+------+------+------+\n",
       "| count | 2308 | 2018 | 1740 | 1592 | 1323 | 1177 | 1137 | 1013 | 889  | 810  |\n",
       "+-------+------+------+------+------+------+------+------+------+------+------+\n",
       "\n",
       "Quantiles: \n",
       "+-----+-------+-------+-------+--------+--------+---------+---------+----------+\n",
       "|  0% |   1%  |   5%  |  25%  |  50%   |  75%   |   95%   |   99%   |   100%   |\n",
       "+-----+-------+-------+-------+--------+--------+---------+---------+----------+\n",
       "| 1.0 | 377.0 | 586.0 | 946.0 | 1400.0 | 2800.0 | 10800.0 | 30700.0 | 843300.0 |\n",
       "+-----+-------+-------+-------+--------+--------+---------+---------+----------+"
      ]
     },
     "execution_count": 8,
     "metadata": {},
     "output_type": "execute_result"
    }
   ],
   "source": [
    "sf['shares'].sketch_summary()"
   ]
  },
  {
   "cell_type": "markdown",
   "metadata": {},
   "source": [
    "### Let's define what we want to predict"
   ]
  },
  {
   "cell_type": "code",
   "execution_count": 10,
   "metadata": {
    "collapsed": true
   },
   "outputs": [],
   "source": [
    "sf['is_popular'] = sf['shares'] > sf['shares'].sketch_summary().quantile(.50)"
   ]
  },
  {
   "cell_type": "markdown",
   "metadata": {},
   "source": [
    "### And make a function that will split the dataset on timedelta, so that newer samples are in the test set"
   ]
  },
  {
   "cell_type": "code",
   "execution_count": 11,
   "metadata": {
    "collapsed": true
   },
   "outputs": [],
   "source": [
    "# this is a function that will split the SFrame after `fraction` of its rows\n",
    "def split_at(sf, fraction=0.70):\n",
    "    # get the row number \n",
    "    split_at = int(fraction * len(sf))\n",
    "    \n",
    "    # you can slice the SFrame just like a list()\n",
    "    return sf[:split_at], sf[split_at:]\n",
    "\n",
    "# now we make sure the data is ordered according to time\n",
    "# and that younger entries will be at the end\n",
    "sf = sf.sort('timedelta', ascending=False)\n",
    "\n",
    "# voila! we have our train and tes sets\n",
    "train, test = split_at(sf, 0.90)"
   ]
  },
  {
   "cell_type": "markdown",
   "metadata": {},
   "source": [
    "### Now we can teach a random forest classifier on the dataset"
   ]
  },
  {
   "cell_type": "code",
   "execution_count": 12,
   "metadata": {
    "collapsed": false
   },
   "outputs": [
    {
     "data": {
      "text/html": [
       "<pre>Random forest classifier:</pre>"
      ],
      "text/plain": [
       "Random forest classifier:"
      ]
     },
     "metadata": {},
     "output_type": "display_data"
    },
    {
     "data": {
      "text/html": [
       "<pre>--------------------------------------------------------</pre>"
      ],
      "text/plain": [
       "--------------------------------------------------------"
      ]
     },
     "metadata": {},
     "output_type": "display_data"
    },
    {
     "data": {
      "text/html": [
       "<pre>Number of examples          : 33898</pre>"
      ],
      "text/plain": [
       "Number of examples          : 33898"
      ]
     },
     "metadata": {},
     "output_type": "display_data"
    },
    {
     "data": {
      "text/html": [
       "<pre>Number of classes           : 2</pre>"
      ],
      "text/plain": [
       "Number of classes           : 2"
      ]
     },
     "metadata": {},
     "output_type": "display_data"
    },
    {
     "data": {
      "text/html": [
       "<pre>Number of feature columns   : 58</pre>"
      ],
      "text/plain": [
       "Number of feature columns   : 58"
      ]
     },
     "metadata": {},
     "output_type": "display_data"
    },
    {
     "data": {
      "text/html": [
       "<pre>Number of unpacked features : 58</pre>"
      ],
      "text/plain": [
       "Number of unpacked features : 58"
      ]
     },
     "metadata": {},
     "output_type": "display_data"
    },
    {
     "data": {
      "text/html": [
       "<pre>+-----------+--------------+-------------------+-------------------+---------------------+---------------------+</pre>"
      ],
      "text/plain": [
       "+-----------+--------------+-------------------+-------------------+---------------------+---------------------+"
      ]
     },
     "metadata": {},
     "output_type": "display_data"
    },
    {
     "data": {
      "text/html": [
       "<pre>| Iteration | Elapsed Time | Training-accuracy | Training-log_loss | Validation-accuracy | Validation-log_loss |</pre>"
      ],
      "text/plain": [
       "| Iteration | Elapsed Time | Training-accuracy | Training-log_loss | Validation-accuracy | Validation-log_loss |"
      ]
     },
     "metadata": {},
     "output_type": "display_data"
    },
    {
     "data": {
      "text/html": [
       "<pre>+-----------+--------------+-------------------+-------------------+---------------------+---------------------+</pre>"
      ],
      "text/plain": [
       "+-----------+--------------+-------------------+-------------------+---------------------+---------------------+"
      ]
     },
     "metadata": {},
     "output_type": "display_data"
    },
    {
     "data": {
      "text/html": [
       "<pre>| 1         | 0.094893     | 0.636586          | 0.633529          | 0.631106            | 0.644594            |</pre>"
      ],
      "text/plain": [
       "| 1         | 0.094893     | 0.636586          | 0.633529          | 0.631106            | 0.644594            |"
      ]
     },
     "metadata": {},
     "output_type": "display_data"
    },
    {
     "data": {
      "text/html": [
       "<pre>| 2         | 0.181476     | 0.654965          | 0.625178          | 0.645705            | 0.636178            |</pre>"
      ],
      "text/plain": [
       "| 2         | 0.181476     | 0.654965          | 0.625178          | 0.645705            | 0.636178            |"
      ]
     },
     "metadata": {},
     "output_type": "display_data"
    },
    {
     "data": {
      "text/html": [
       "<pre>| 3         | 0.262874     | 0.663372          | 0.619298          | 0.655250            | 0.630358            |</pre>"
      ],
      "text/plain": [
       "| 3         | 0.262874     | 0.663372          | 0.619298          | 0.655250            | 0.630358            |"
      ]
     },
     "metadata": {},
     "output_type": "display_data"
    },
    {
     "data": {
      "text/html": [
       "<pre>| 4         | 0.343938     | 0.663166          | 0.619427          | 0.653004            | 0.629478            |</pre>"
      ],
      "text/plain": [
       "| 4         | 0.343938     | 0.663166          | 0.619427          | 0.653004            | 0.629478            |"
      ]
     },
     "metadata": {},
     "output_type": "display_data"
    },
    {
     "data": {
      "text/html": [
       "<pre>| 5         | 0.440114     | 0.665054          | 0.617598          | 0.651320            | 0.628492            |</pre>"
      ],
      "text/plain": [
       "| 5         | 0.440114     | 0.665054          | 0.617598          | 0.651320            | 0.628492            |"
      ]
     },
     "metadata": {},
     "output_type": "display_data"
    },
    {
     "data": {
      "text/html": [
       "<pre>| 6         | 0.523609     | 0.665585          | 0.617202          | 0.656934            | 0.628190            |</pre>"
      ],
      "text/plain": [
       "| 6         | 0.523609     | 0.665585          | 0.617202          | 0.656934            | 0.628190            |"
      ]
     },
     "metadata": {},
     "output_type": "display_data"
    },
    {
     "data": {
      "text/html": [
       "<pre>| 11        | 0.949866     | 0.671544          | 0.615522          | 0.652442            | 0.629158            |</pre>"
      ],
      "text/plain": [
       "| 11        | 0.949866     | 0.671544          | 0.615522          | 0.652442            | 0.629158            |"
      ]
     },
     "metadata": {},
     "output_type": "display_data"
    },
    {
     "data": {
      "text/html": [
       "<pre>| 25        | 2.215188     | 0.670836          | 0.615242          | 0.652442            | 0.630717            |</pre>"
      ],
      "text/plain": [
       "| 25        | 2.215188     | 0.670836          | 0.615242          | 0.652442            | 0.630717            |"
      ]
     },
     "metadata": {},
     "output_type": "display_data"
    },
    {
     "data": {
      "text/html": [
       "<pre>| 50        | 4.516598     | 0.668830          | 0.614962          | 0.650758            | 0.630869            |</pre>"
      ],
      "text/plain": [
       "| 50        | 4.516598     | 0.668830          | 0.614962          | 0.650758            | 0.630869            |"
      ]
     },
     "metadata": {},
     "output_type": "display_data"
    },
    {
     "data": {
      "text/html": [
       "<pre>| 51        | 4.606579     | 0.668683          | 0.615017          | 0.650758            | 0.630860            |</pre>"
      ],
      "text/plain": [
       "| 51        | 4.606579     | 0.668683          | 0.615017          | 0.650758            | 0.630860            |"
      ]
     },
     "metadata": {},
     "output_type": "display_data"
    },
    {
     "data": {
      "text/html": [
       "<pre>+-----------+--------------+-------------------+-------------------+---------------------+---------------------+</pre>"
      ],
      "text/plain": [
       "+-----------+--------------+-------------------+-------------------+---------------------+---------------------+"
      ]
     },
     "metadata": {},
     "output_type": "display_data"
    },
    {
     "name": "stdout",
     "output_type": "stream",
     "text": [
      "PROGRESS: Creating a validation set from 5 percent of training data. This may take a while.\n",
      "          You can set ``validation_set=None`` to disable validation tracking.\n",
      "\n"
     ]
    }
   ],
   "source": [
    "random_forrest = gl.random_forest_classifier.create(train, target='is_popular', features=features, num_trees=64)"
   ]
  },
  {
   "cell_type": "code",
   "execution_count": 13,
   "metadata": {
    "collapsed": true
   },
   "outputs": [],
   "source": [
    "evaluate = random_forrest.evaluate(test)"
   ]
  },
  {
   "cell_type": "code",
   "execution_count": 14,
   "metadata": {
    "collapsed": false
   },
   "outputs": [
    {
     "data": {
      "text/plain": [
       "{'accuracy': 0.6686002522068096,\n",
       " 'auc': 0.7201798761169542,\n",
       " 'confusion_matrix': Columns:\n",
       " \ttarget_label\tint\n",
       " \tpredicted_label\tint\n",
       " \tcount\tint\n",
       " \n",
       " Rows: 4\n",
       " \n",
       " Data:\n",
       " +--------------+-----------------+-------+\n",
       " | target_label | predicted_label | count |\n",
       " +--------------+-----------------+-------+\n",
       " |      1       |        0        |  633  |\n",
       " |      0       |        0        |  1554 |\n",
       " |      1       |        1        |  1097 |\n",
       " |      0       |        1        |  681  |\n",
       " +--------------+-----------------+-------+\n",
       " [4 rows x 3 columns],\n",
       " 'f1_score': 0.6254275940706955,\n",
       " 'log_loss': 0.6156656161340563,\n",
       " 'precision': 0.6169853768278966,\n",
       " 'recall': 0.6341040462427746,\n",
       " 'roc_curve': Columns:\n",
       " \tthreshold\tfloat\n",
       " \tfpr\tfloat\n",
       " \ttpr\tfloat\n",
       " \tp\tint\n",
       " \tn\tint\n",
       " \n",
       " Rows: 100001\n",
       " \n",
       " Data:\n",
       " +-----------+-----+-----+------+------+\n",
       " | threshold | fpr | tpr |  p   |  n   |\n",
       " +-----------+-----+-----+------+------+\n",
       " |    0.0    | 1.0 | 1.0 | 1730 | 2235 |\n",
       " |   1e-05   | 1.0 | 1.0 | 1730 | 2235 |\n",
       " |   2e-05   | 1.0 | 1.0 | 1730 | 2235 |\n",
       " |   3e-05   | 1.0 | 1.0 | 1730 | 2235 |\n",
       " |   4e-05   | 1.0 | 1.0 | 1730 | 2235 |\n",
       " |   5e-05   | 1.0 | 1.0 | 1730 | 2235 |\n",
       " |   6e-05   | 1.0 | 1.0 | 1730 | 2235 |\n",
       " |   7e-05   | 1.0 | 1.0 | 1730 | 2235 |\n",
       " |   8e-05   | 1.0 | 1.0 | 1730 | 2235 |\n",
       " |   9e-05   | 1.0 | 1.0 | 1730 | 2235 |\n",
       " +-----------+-----+-----+------+------+\n",
       " [100001 rows x 5 columns]\n",
       " Note: Only the head of the SFrame is printed.\n",
       " You can use print_rows(num_rows=m, num_columns=n) to print more rows and columns.}"
      ]
     },
     "execution_count": 14,
     "metadata": {},
     "output_type": "execute_result"
    }
   ],
   "source": [
    "evaluate"
   ]
  },
  {
   "cell_type": "markdown",
   "metadata": {},
   "source": [
    "### 0.666 accuracy may not seem like much but it is bigger than reported in the article we got the data from :) "
   ]
  },
  {
   "cell_type": "code",
   "execution_count": 15,
   "metadata": {
    "collapsed": false
   },
   "outputs": [
    {
     "data": {
      "image/png": "[encoded data removed]",
      "text/plain": [
       "<IPython.core.display.Image object>"
      ]
     },
     "execution_count": 15,
     "metadata": {
      "image/png": {
       "width": 400
      }
     },
     "output_type": "execute_result"
    }
   ],
   "source": [
    "fig = plt.figure()\n",
    "evaluate['roc_curve'].to_dataframe().sort('tpr', 0, True).plot('fpr', 'tpr')\n",
    "inline_figure_on_remote(plt)"
   ]
  },
  {
   "cell_type": "markdown",
   "metadata": {},
   "source": [
    "## Using Lambda workers for feature engineering"
   ]
  },
  {
   "cell_type": "code",
   "execution_count": 16,
   "metadata": {
    "collapsed": false
   },
   "outputs": [],
   "source": [
    "gl.set_runtime_config('GRAPHLAB_DEFAULT_NUM_PYLAMBDA_WORKERS', 20) # optional"
   ]
  },
  {
   "cell_type": "markdown",
   "metadata": {},
   "source": [
    "### create new categorical column with lambda expression on single column"
   ]
  },
  {
   "cell_type": "code",
   "execution_count": 17,
   "metadata": {
    "collapsed": false
   },
   "outputs": [],
   "source": [
    "sf['new_1'] = sf['timedelta'].apply(lambda x: 'koza' if x > 2 else 'do_woza')"
   ]
  },
  {
   "cell_type": "markdown",
   "metadata": {},
   "source": [
    "### create new array column with a function on single column"
   ]
  },
  {
   "cell_type": "code",
   "execution_count": 18,
   "metadata": {
    "collapsed": false
   },
   "outputs": [],
   "source": [
    "import array\n",
    "def crete_dummy_array_column(x):\n",
    "    return array.array('d', [x/4, x**2])\n",
    "\n",
    "sf['new_2'] = sf['timedelta'].apply(crete_dummy_array_column)"
   ]
  },
  {
   "cell_type": "markdown",
   "metadata": {},
   "source": [
    "### create new dict column with lambda expression on multiple columns (could be the whole sframe)"
   ]
  },
  {
   "cell_type": "code",
   "execution_count": 19,
   "metadata": {
    "collapsed": true
   },
   "outputs": [],
   "source": [
    "sf['new_3'] = sf[['num_videos', 'LDA_00', 'LDA_02']].apply(\n",
    "    lambda r: {'new_3.1': r['LDA_00'] * r['num_videos'] , 'new_3.2': r['LDA_02'] * r['num_videos']})"
   ]
  },
  {
   "cell_type": "markdown",
   "metadata": {},
   "source": [
    "### create new list column with function that uses external library on multiple columns"
   ]
  },
  {
   "cell_type": "code",
   "execution_count": 20,
   "metadata": {
    "collapsed": false
   },
   "outputs": [],
   "source": [
    "import pydash\n",
    "\n",
    "def make_new_4(x):\n",
    "    return pydash.chain(\n",
    "        [1, 2, [3234, [41233, 5, [6, 7]]]]\n",
    "    ).flatten_deep(\n",
    "    ).reject(\n",
    "        lambda y: y < x['timedelta']\n",
    "    ).value()\n",
    "\n",
    "sf['new_4'] = sf.apply(make_new_4)"
   ]
  },
  {
   "cell_type": "markdown",
   "metadata": {},
   "source": [
    "### Let's have a look at new \"features\" that we created"
   ]
  },
  {
   "cell_type": "code",
   "execution_count": 21,
   "metadata": {
    "collapsed": true
   },
   "outputs": [],
   "source": [
    "new_features = ['new_{}'.format(i) for i in xrange(1,5)]"
   ]
  },
  {
   "cell_type": "code",
   "execution_count": 22,
   "metadata": {
    "collapsed": false
   },
   "outputs": [
    {
     "data": {
      "text/html": [
       "<div style=\"max-height:1000px;max-width:1500px;overflow:auto;\"><table frame=\"box\" rules=\"cols\">\n",
       "    <tr>\n",
       "        <th style=\"padding-left: 1em; padding-right: 1em; text-align: center\">new_1</th>\n",
       "        <th style=\"padding-left: 1em; padding-right: 1em; text-align: center\">new_2</th>\n",
       "        <th style=\"padding-left: 1em; padding-right: 1em; text-align: center\">new_3</th>\n",
       "        <th style=\"padding-left: 1em; padding-right: 1em; text-align: center\">new_4</th>\n",
       "    </tr>\n",
       "    <tr>\n",
       "        <td style=\"padding-left: 1em; padding-right: 1em; text-align: center; vertical-align: top\">koza</td>\n",
       "        <td style=\"padding-left: 1em; padding-right: 1em; text-align: center; vertical-align: top\">[182.75, 534361.0]</td>\n",
       "        <td style=\"padding-left: 1em; padding-right: 1em; text-align: center; vertical-align: top\">{'new_3.1': 0.0,<br>'new_3.2': 0.0} ...</td>\n",
       "        <td style=\"padding-left: 1em; padding-right: 1em; text-align: center; vertical-align: top\">[3234.0, 41233.0]</td>\n",
       "    </tr>\n",
       "    <tr>\n",
       "        <td style=\"padding-left: 1em; padding-right: 1em; text-align: center; vertical-align: top\">koza</td>\n",
       "        <td style=\"padding-left: 1em; padding-right: 1em; text-align: center; vertical-align: top\">[173.5, 481636.0]</td>\n",
       "        <td style=\"padding-left: 1em; padding-right: 1em; text-align: center; vertical-align: top\">{'new_3.1':<br>0.0250081273102, ...</td>\n",
       "        <td style=\"padding-left: 1em; padding-right: 1em; text-align: center; vertical-align: top\">[3234.0, 41233.0]</td>\n",
       "    </tr>\n",
       "    <tr>\n",
       "        <td style=\"padding-left: 1em; padding-right: 1em; text-align: center; vertical-align: top\">koza</td>\n",
       "        <td style=\"padding-left: 1em; padding-right: 1em; text-align: center; vertical-align: top\">[169.5, 459684.0]</td>\n",
       "        <td style=\"padding-left: 1em; padding-right: 1em; text-align: center; vertical-align: top\">{'new_3.1':<br>0.0286216917509, ...</td>\n",
       "        <td style=\"padding-left: 1em; padding-right: 1em; text-align: center; vertical-align: top\">[3234.0, 41233.0]</td>\n",
       "    </tr>\n",
       "</table>\n",
       "[3 rows x 4 columns]<br/>\n",
       "</div>"
      ],
      "text/plain": [
       "Columns:\n",
       "\tnew_1\tstr\n",
       "\tnew_2\tarray\n",
       "\tnew_3\tdict\n",
       "\tnew_4\tarray\n",
       "\n",
       "Rows: 3\n",
       "\n",
       "Data:\n",
       "+-------+--------------------+-------------------------------+-------------------+\n",
       "| new_1 |       new_2        |             new_3             |       new_4       |\n",
       "+-------+--------------------+-------------------------------+-------------------+\n",
       "|  koza | [182.75, 534361.0] | {'new_3.1': 0.0, 'new_3.2'... | [3234.0, 41233.0] |\n",
       "|  koza | [173.5, 481636.0]  | {'new_3.1': 0.025008127310... | [3234.0, 41233.0] |\n",
       "|  koza | [169.5, 459684.0]  | {'new_3.1': 0.028621691750... | [3234.0, 41233.0] |\n",
       "+-------+--------------------+-------------------------------+-------------------+\n",
       "[3 rows x 4 columns]"
      ]
     },
     "execution_count": 22,
     "metadata": {},
     "output_type": "execute_result"
    }
   ],
   "source": [
    "sf[new_features].sample(0.001).head(3)"
   ]
  },
  {
   "cell_type": "markdown",
   "metadata": {},
   "source": [
    "## Graphlab classifiers can handle dict, array and string features effortlessly "
   ]
  },
  {
   "cell_type": "code",
   "execution_count": 23,
   "metadata": {
    "collapsed": false
   },
   "outputs": [
    {
     "data": {
      "text/html": [
       "<pre>WARNING: Detected extremely low variance for feature(s) 'new_1', 'new_4' because all entries are nearly the same.\n",
       "Proceeding with model training using all features. If the model does not provide results of adequate quality, exclude the above mentioned feature(s) from the input dataset.</pre>"
      ],
      "text/plain": [
       "WARNING: Detected extremely low variance for feature(s) 'new_1', 'new_4' because all entries are nearly the same.\n",
       "Proceeding with model training using all features. If the model does not provide results of adequate quality, exclude the above mentioned feature(s) from the input dataset."
      ]
     },
     "metadata": {},
     "output_type": "display_data"
    },
    {
     "data": {
      "text/html": [
       "<pre>Random forest classifier:</pre>"
      ],
      "text/plain": [
       "Random forest classifier:"
      ]
     },
     "metadata": {},
     "output_type": "display_data"
    },
    {
     "data": {
      "text/html": [
       "<pre>--------------------------------------------------------</pre>"
      ],
      "text/plain": [
       "--------------------------------------------------------"
      ]
     },
     "metadata": {},
     "output_type": "display_data"
    },
    {
     "data": {
      "text/html": [
       "<pre>Number of examples          : 33968</pre>"
      ],
      "text/plain": [
       "Number of examples          : 33968"
      ]
     },
     "metadata": {},
     "output_type": "display_data"
    },
    {
     "data": {
      "text/html": [
       "<pre>Number of classes           : 2</pre>"
      ],
      "text/plain": [
       "Number of classes           : 2"
      ]
     },
     "metadata": {},
     "output_type": "display_data"
    },
    {
     "data": {
      "text/html": [
       "<pre>Number of feature columns   : 62</pre>"
      ],
      "text/plain": [
       "Number of feature columns   : 62"
      ]
     },
     "metadata": {},
     "output_type": "display_data"
    },
    {
     "data": {
      "text/html": [
       "<pre>Number of unpacked features : 65</pre>"
      ],
      "text/plain": [
       "Number of unpacked features : 65"
      ]
     },
     "metadata": {},
     "output_type": "display_data"
    },
    {
     "data": {
      "text/html": [
       "<pre>+-----------+--------------+-------------------+-------------------+---------------------+---------------------+</pre>"
      ],
      "text/plain": [
       "+-----------+--------------+-------------------+-------------------+---------------------+---------------------+"
      ]
     },
     "metadata": {},
     "output_type": "display_data"
    },
    {
     "data": {
      "text/html": [
       "<pre>| Iteration | Elapsed Time | Training-accuracy | Training-log_loss | Validation-accuracy | Validation-log_loss |</pre>"
      ],
      "text/plain": [
       "| Iteration | Elapsed Time | Training-accuracy | Training-log_loss | Validation-accuracy | Validation-log_loss |"
      ]
     },
     "metadata": {},
     "output_type": "display_data"
    },
    {
     "data": {
      "text/html": [
       "<pre>+-----------+--------------+-------------------+-------------------+---------------------+---------------------+</pre>"
      ],
      "text/plain": [
       "+-----------+--------------+-------------------+-------------------+---------------------+---------------------+"
      ]
     },
     "metadata": {},
     "output_type": "display_data"
    },
    {
     "data": {
      "text/html": [
       "<pre>| 1         | 0.094222     | 0.648404          | 0.629732          | 0.631794            | 0.642409            |</pre>"
      ],
      "text/plain": [
       "| 1         | 0.094222     | 0.648404          | 0.629732          | 0.631794            | 0.642409            |"
      ]
     },
     "metadata": {},
     "output_type": "display_data"
    },
    {
     "data": {
      "text/html": [
       "<pre>| 2         | 0.185801     | 0.662329          | 0.621749          | 0.646990            | 0.636804            |</pre>"
      ],
      "text/plain": [
       "| 2         | 0.185801     | 0.662329          | 0.621749          | 0.646990            | 0.636804            |"
      ]
     },
     "metadata": {},
     "output_type": "display_data"
    },
    {
     "data": {
      "text/html": [
       "<pre>| 3         | 0.280343     | 0.660681          | 0.619506          | 0.633548            | 0.631687            |</pre>"
      ],
      "text/plain": [
       "| 3         | 0.280343     | 0.660681          | 0.619506          | 0.633548            | 0.631687            |"
      ]
     },
     "metadata": {},
     "output_type": "display_data"
    },
    {
     "data": {
      "text/html": [
       "<pre>| 4         | 0.372150     | 0.666186          | 0.616781          | 0.652835            | 0.627791            |</pre>"
      ],
      "text/plain": [
       "| 4         | 0.372150     | 0.666186          | 0.616781          | 0.652835            | 0.627791            |"
      ]
     },
     "metadata": {},
     "output_type": "display_data"
    },
    {
     "data": {
      "text/html": [
       "<pre>| 5         | 0.464974     | 0.666745          | 0.616516          | 0.655172            | 0.626836            |</pre>"
      ],
      "text/plain": [
       "| 5         | 0.464974     | 0.666745          | 0.616516          | 0.655172            | 0.626836            |"
      ]
     },
     "metadata": {},
     "output_type": "display_data"
    },
    {
     "data": {
      "text/html": [
       "<pre>| 6         | 0.593524     | 0.666627          | 0.616048          | 0.648743            | 0.626818            |</pre>"
      ],
      "text/plain": [
       "| 6         | 0.593524     | 0.666627          | 0.616048          | 0.648743            | 0.626818            |"
      ]
     },
     "metadata": {},
     "output_type": "display_data"
    },
    {
     "data": {
      "text/html": [
       "<pre>+-----------+--------------+-------------------+-------------------+---------------------+---------------------+</pre>"
      ],
      "text/plain": [
       "+-----------+--------------+-------------------+-------------------+---------------------+---------------------+"
      ]
     },
     "metadata": {},
     "output_type": "display_data"
    },
    {
     "name": "stdout",
     "output_type": "stream",
     "text": [
      "PROGRESS: Creating a validation set from 5 percent of training data. This may take a while.\n",
      "          You can set ``validation_set=None`` to disable validation tracking.\n",
      "\n"
     ]
    }
   ],
   "source": [
    "train, test = split_at(sf, 0.90)\n",
    "random_forrest = gl.random_forest_classifier.create(train, 'is_popular', features + new_features)"
   ]
  },
  {
   "cell_type": "markdown",
   "metadata": {},
   "source": [
    "### Note: If your lambdas are too slow you can write them in C++ SDK and import them effortlessly in python"
   ]
  },
  {
   "cell_type": "markdown",
   "metadata": {
    "collapsed": true
   },
   "source": [
    "## 2. Data acquistion - Pulling data from the web"
   ]
  },
  {
   "cell_type": "markdown",
   "metadata": {
    "collapsed": true
   },
   "source": [
    "First we need a source of new features, what better source than the articles? We will use an awesome python library for working with news articles that will abstract away a lot of the pain of scraping, parsing and cleaning the contents of HTML pages. The library is called `newspaper` and you can install it with `pip install newspaper`."
   ]
  },
  {
   "cell_type": "code",
   "execution_count": 24,
   "metadata": {
    "collapsed": true
   },
   "outputs": [],
   "source": [
    "# a cheap alternative for AlchemyAPI if you are just interested with cleaned data\n",
    "# designed primarily for pulling data from online publishers & blogs\n",
    "from newspaper import Article "
   ]
  },
  {
   "cell_type": "markdown",
   "metadata": {},
   "source": [
    "### We need a function that will download and parse the articles for each of our urls."
   ]
  },
  {
   "cell_type": "code",
   "execution_count": 25,
   "metadata": {
    "collapsed": true
   },
   "outputs": [],
   "source": [
    "def extract(url):\n",
    "    of_interest = [\n",
    "        'meta_keywords',\n",
    "        'text',\n",
    "        'title',\n",
    "        'top_image',\n",
    "        'authors',\n",
    "        'keywords'\n",
    "    ]\n",
    "    try:\n",
    "        a = Article(url)\n",
    "        a.download()\n",
    "        a.parse()\n",
    "        \n",
    "        # this is a useful freebe that uses NLTK to extract keywords\n",
    "        # you can comment this out if you don't want to rely on NLTK\n",
    "        a.nlp()\n",
    "        \n",
    "    # We are working with an external site and a lot of things can go wrong\n",
    "    # We want to know about it but we don't want it to mess up the execution.\n",
    "    except Exception as e:\n",
    "        print \"Exception: {} occured at url: \\t{} \".format(e, url)\n",
    "        \n",
    "        # We will be able to deal with the missing values later\n",
    "        return {}\n",
    "    \n",
    "    return dict([\n",
    "            # converts lists into dicts and leaves scalars untouched\n",
    "            (k, v) if not isinstance(v, list) else (k, {x: 1 for x in v})\n",
    "            \n",
    "            # iterate over the properties of the Article object\n",
    "            for k, v in vars(a).iteritems() \n",
    "            \n",
    "            # keep only ones that we want\n",
    "            if k in of_interest\n",
    "        ])"
   ]
  },
  {
   "cell_type": "markdown",
   "metadata": {},
   "source": [
    "### Let us see if it works."
   ]
  },
  {
   "cell_type": "code",
   "execution_count": 26,
   "metadata": {
    "collapsed": false
   },
   "outputs": [
    {
     "data": {
      "text/plain": [
       "{'authors': {u'Zoe Fox': 1},\n",
       " 'keywords': {u'born': 1,\n",
       "  u'children': 1,\n",
       "  u'deformity': 1,\n",
       "  u'facial': 1,\n",
       "  u'hawk': 1,\n",
       "  u'nonprofit': 1,\n",
       "  u'nonprofits': 1,\n",
       "  u'operation': 1,\n",
       "  u'pledge': 1,\n",
       "  u'share': 1,\n",
       "  u'smile': 1,\n",
       "  u'smiles': 1,\n",
       "  u'spreads': 1,\n",
       "  u'surgeries': 1,\n",
       "  u'tony': 1},\n",
       " 'meta_keywords': {'social-good': 1, 'uncategorized': 1, 'us-world': 1},\n",
       " 'text': u\"Pro skateboarder Tony Hawk has teamed up with non-profit Operation Smile to bring transformative surgery to children born with facial deformities. The campaign asks you to upload a photo of your smile and watch as it's sent across the world.\\n\\nThe campaign is built around an interactive film Change Forever featuring Hawk, which asks you to share your smile through a Facebook app to help children with cleft lip or cleft palate. You're then encouraged to share your smile and the film on Facebook, Twitter or Pinterest, and to take a pledge to spread awareness of facial deformities.\\n\\nThe pledge also states that every child has the right to smile, because humans smile to express happiness. According to Operation Smile, a child is born every three minutes with facial deformities preventing smiling. Of those born with facial deformity, 10% will not live until their first birthday.\\n\\nSEE ALSO: 9 Non-Profits That Get Web Humor\\n\\nThat's why the non-profit works to bring facial reconstructive surgeries to children in the developing world who would not otherwise be able to afford them. Without the surgeries, many children will never be able speak or eat normally. Additionally, in many of the communities that benefit from Operation Smile surgeries, the children would otherwise be shunned.\\n\\nChange Forever's launch coincides with the non-profit's 30th anniversary as well as National Birth Defect Awareness Month.\\n\\nImage courtesy of Operation Smile\",\n",
       " 'title': u'Tony Hawk Spreads Smiles for Children Born With Facial Deformity',\n",
       " 'top_image': u'http://rack.0.mshcdn.com/media/ZgkyMDEzLzAxLzE1Lzc2L3RvbnloYXdrLmY1ZDNlLmpwZwpwCXRodW1iCTEyMDB4NjI3IwplCWpwZw/1f8715db/411/tony-hawk.jpg'}"
      ]
     },
     "execution_count": 26,
     "metadata": {},
     "output_type": "execute_result"
    }
   ],
   "source": [
    "extract(\"http://mashable.com/2013/01/15/tony-hawk-operation-smile\")"
   ]
  },
  {
   "cell_type": "markdown",
   "metadata": {},
   "source": [
    "### We will subsample our dataframe to make this demo faster you can remove the below if you are doing things at home and have some time"
   ]
  },
  {
   "cell_type": "code",
   "execution_count": 27,
   "metadata": {
    "collapsed": true
   },
   "outputs": [],
   "source": [
    "sf = sf.sample(0.01)"
   ]
  },
  {
   "cell_type": "markdown",
   "metadata": {},
   "source": [
    "## Now we apply our extraction function (it took me 30 minutes for the whole dataset)."
   ]
  },
  {
   "cell_type": "code",
   "execution_count": 30,
   "metadata": {
    "collapsed": false
   },
   "outputs": [],
   "source": [
    "# %%time\n",
    "# sf['extracted'] = sf['url'].apply(extract)\n",
    "# sf.__materialize__()\n",
    "# sf.save('meetml_enriched')\n",
    "\n",
    "# CPU times: user 28.6 s, sys: 0 ns, total: 28.6 s\n",
    "# Wall time: 1min 29s\n",
    "\n",
    "sf = gl.load_sframe('meetml_enriched_with_images')"
   ]
  },
  {
   "cell_type": "markdown",
   "metadata": {},
   "source": [
    "## Let's make each feature supplied by the extract method into a separate column."
   ]
  },
  {
   "cell_type": "code",
   "execution_count": 31,
   "metadata": {
    "collapsed": false
   },
   "outputs": [
    {
     "ename": "KeyError",
     "evalue": "\"column 'extracted' does not exist in current SFrame\"",
     "output_type": "error",
     "traceback": [
      "\u001b[1;31m---------------------------------------------------------------------------\u001b[0m",
      "\u001b[1;31mKeyError\u001b[0m                                  Traceback (most recent call last)",
      "\u001b[1;32m<ipython-input-31-1b8c641d1b0e>\u001b[0m in \u001b[0;36m<module>\u001b[1;34m()\u001b[0m\n\u001b[1;32m----> 1\u001b[1;33m \u001b[0msf\u001b[0m \u001b[1;33m=\u001b[0m \u001b[0msf\u001b[0m\u001b[1;33m.\u001b[0m\u001b[0munpack\u001b[0m\u001b[1;33m(\u001b[0m\u001b[1;34m'extracted'\u001b[0m\u001b[1;33m,\u001b[0m \u001b[0mcolumn_name_prefix\u001b[0m\u001b[1;33m=\u001b[0m\u001b[1;34m''\u001b[0m\u001b[1;33m)\u001b[0m\u001b[1;33m\u001b[0m\u001b[0m\n\u001b[0m",
      "\u001b[1;32m/home/production/.virtualenvs/tailor_core/lib/python2.7/site-packages/graphlab/data_structures/sframe.pyc\u001b[0m in \u001b[0;36munpack\u001b[1;34m(self, unpack_column, column_name_prefix, column_types, na_value, limit)\u001b[0m\n\u001b[0;32m   5365\u001b[0m         \"\"\"\n\u001b[0;32m   5366\u001b[0m         \u001b[1;32mif\u001b[0m \u001b[0munpack_column\u001b[0m \u001b[1;32mnot\u001b[0m \u001b[1;32min\u001b[0m \u001b[0mself\u001b[0m\u001b[1;33m.\u001b[0m\u001b[0mcolumn_names\u001b[0m\u001b[1;33m(\u001b[0m\u001b[1;33m)\u001b[0m\u001b[1;33m:\u001b[0m\u001b[1;33m\u001b[0m\u001b[0m\n\u001b[1;32m-> 5367\u001b[1;33m             \u001b[1;32mraise\u001b[0m \u001b[0mKeyError\u001b[0m\u001b[1;33m(\u001b[0m\u001b[1;34m\"column '\"\u001b[0m \u001b[1;33m+\u001b[0m \u001b[0munpack_column\u001b[0m \u001b[1;33m+\u001b[0m \u001b[1;34m\"' does not exist in current SFrame\"\u001b[0m\u001b[1;33m)\u001b[0m\u001b[1;33m\u001b[0m\u001b[0m\n\u001b[0m\u001b[0;32m   5368\u001b[0m \u001b[1;33m\u001b[0m\u001b[0m\n\u001b[0;32m   5369\u001b[0m         \u001b[1;32mif\u001b[0m \u001b[0mcolumn_name_prefix\u001b[0m \u001b[1;33m==\u001b[0m \u001b[0mNone\u001b[0m\u001b[1;33m:\u001b[0m\u001b[1;33m\u001b[0m\u001b[0m\n",
      "\u001b[1;31mKeyError\u001b[0m: \"column 'extracted' does not exist in current SFrame\""
     ]
    }
   ],
   "source": [
    "sf = sf.unpack('extracted', column_name_prefix='')"
   ]
  },
  {
   "cell_type": "code",
   "execution_count": 32,
   "metadata": {
    "collapsed": false
   },
   "outputs": [
    {
     "data": {
      "text/html": [
       "<div style=\"max-height:1000px;max-width:1500px;overflow:auto;\"><table frame=\"box\" rules=\"cols\">\n",
       "    <tr>\n",
       "        <th style=\"padding-left: 1em; padding-right: 1em; text-align: center\">meta_keywords</th>\n",
       "        <th style=\"padding-left: 1em; padding-right: 1em; text-align: center\">text</th>\n",
       "        <th style=\"padding-left: 1em; padding-right: 1em; text-align: center\">title</th>\n",
       "        <th style=\"padding-left: 1em; padding-right: 1em; text-align: center\">top_image</th>\n",
       "    </tr>\n",
       "    <tr>\n",
       "        <td style=\"padding-left: 1em; padding-right: 1em; text-align: center; vertical-align: top\">{'winter': 1,<br>'watercooler': 1, 'cute- ...</td>\n",
       "        <td style=\"padding-left: 1em; padding-right: 1em; text-align: center; vertical-align: top\">Snow Dogs\\n\\nHumans often<br>greet cold weather with ...</td>\n",
       "        <td style=\"padding-left: 1em; padding-right: 1em; text-align: center; vertical-align: top\">15 Snow Dogs That Will<br>Melt Your Icy Heart ...</td>\n",
       "        <td style=\"padding-left: 1em; padding-right: 1em; text-align: center; vertical-align: top\">http://rack.1.mshcdn.com/<br>media/ZgkyMDEzLzAxLzI ...</td>\n",
       "    </tr>\n",
       "    <tr>\n",
       "        <td style=\"padding-left: 1em; padding-right: 1em; text-align: center; vertical-align: top\">{'2013-ces': 1,<br>'fitness': 1, 'gadgets': ...</td>\n",
       "        <td style=\"padding-left: 1em; padding-right: 1em; text-align: center; vertical-align: top\">We've been tracking our<br>Mashable team members at ...</td>\n",
       "        <td style=\"padding-left: 1em; padding-right: 1em; text-align: center; vertical-align: top\">Mashable CES Challenge<br>Day 3 ...</td>\n",
       "        <td style=\"padding-left: 1em; padding-right: 1em; text-align: center; vertical-align: top\">http://rack.2.mshcdn.com/<br>media/ZgkyMDEzLzAxLzE ...</td>\n",
       "    </tr>\n",
       "    <tr>\n",
       "        <td style=\"padding-left: 1em; padding-right: 1em; text-align: center; vertical-align: top\">{'lifestyle': 1, 'ditto':<br>1, 'bc-video-lead': 1, ...</td>\n",
       "        <td style=\"padding-left: 1em; padding-right: 1em; text-align: center; vertical-align: top\">Jesse Draper is creator<br>and host of The Valley ...</td>\n",
       "        <td style=\"padding-left: 1em; padding-right: 1em; text-align: center; vertical-align: top\">Try on Your Next Pair of<br>Glasses Online, Get Them ...</td>\n",
       "        <td style=\"padding-left: 1em; padding-right: 1em; text-align: center; vertical-align: top\">http://rack.1.mshcdn.com/<br>media/ZgkyMDEzLzAxLzE ...</td>\n",
       "    </tr>\n",
       "</table>\n",
       "<table frame=\"box\" rules=\"cols\">\n",
       "    <tr>\n",
       "        <th style=\"padding-left: 1em; padding-right: 1em; text-align: center\">authors</th>\n",
       "        <th style=\"padding-left: 1em; padding-right: 1em; text-align: center\">keywords</th>\n",
       "    </tr>\n",
       "    <tr>\n",
       "        <td style=\"padding-left: 1em; padding-right: 1em; text-align: center; vertical-align: top\">{'Annie Colbert': 1}</td>\n",
       "        <td style=\"padding-left: 1em; padding-right: 1em; text-align: center; vertical-align: top\">{'heart': 1, '15': 1,<br>'worse': 1, ...</td>\n",
       "    </tr>\n",
       "    <tr>\n",
       "        <td style=\"padding-left: 1em; padding-right: 1em; text-align: center; vertical-align: top\">{'Nora Grenfell': 1}</td>\n",
       "        <td style=\"padding-left: 1em; padding-right: 1em; text-align: center; vertical-align: top\">{'weve': 1, 'samantha':<br>1, 'challenge': 1, '50': ...</td>\n",
       "    </tr>\n",
       "    <tr>\n",
       "        <td style=\"padding-left: 1em; padding-right: 1em; text-align: center; vertical-align: top\">{'Jesse Draper': 1}</td>\n",
       "        <td style=\"padding-left: 1em; padding-right: 1em; text-align: center; vertical-align: top\">{'trying': 1, 'ditto': 1,<br>'draper': 1, 'ceo': 1, ...</td>\n",
       "    </tr>\n",
       "</table>\n",
       "[3 rows x 6 columns]<br/>\n",
       "</div>"
      ],
      "text/plain": [
       "Columns:\n",
       "\tmeta_keywords\tdict\n",
       "\ttext\tstr\n",
       "\ttitle\tstr\n",
       "\ttop_image\tstr\n",
       "\tauthors\tdict\n",
       "\tkeywords\tdict\n",
       "\n",
       "Rows: 3\n",
       "\n",
       "Data:\n",
       "+-------------------------------+-------------------------------+\n",
       "|         meta_keywords         |              text             |\n",
       "+-------------------------------+-------------------------------+\n",
       "| {'winter': 1, 'watercooler... | Snow Dogs\\n\\nHumans often ... |\n",
       "| {'2013-ces': 1, 'fitness':... | We've been tracking our Ma... |\n",
       "| {'lifestyle': 1, 'ditto': ... | Jesse Draper is creator an... |\n",
       "+-------------------------------+-------------------------------+\n",
       "+-------------------------------+-------------------------------+\n",
       "|             title             |           top_image           |\n",
       "+-------------------------------+-------------------------------+\n",
       "| 15 Snow Dogs That Will Mel... | http://rack.1.mshcdn.com/m... |\n",
       "|  Mashable CES Challenge Day 3 | http://rack.2.mshcdn.com/m... |\n",
       "| Try on Your Next Pair of G... | http://rack.1.mshcdn.com/m... |\n",
       "+-------------------------------+-------------------------------+\n",
       "+----------------------+-------------------------------+\n",
       "|       authors        |            keywords           |\n",
       "+----------------------+-------------------------------+\n",
       "| {'Annie Colbert': 1} | {'heart': 1, '15': 1, 'wor... |\n",
       "| {'Nora Grenfell': 1} | {'weve': 1, 'samantha': 1,... |\n",
       "| {'Jesse Draper': 1}  | {'trying': 1, 'ditto': 1, ... |\n",
       "+----------------------+-------------------------------+\n",
       "[3 rows x 6 columns]"
      ]
     },
     "execution_count": 32,
     "metadata": {},
     "output_type": "execute_result"
    }
   ],
   "source": [
    "sf[['meta_keywords', 'text','title','top_image', 'authors', 'keywords']].head(3)"
   ]
  },
  {
   "cell_type": "markdown",
   "metadata": {},
   "source": [
    "### We should check for how many titles we failed to download the article."
   ]
  },
  {
   "cell_type": "code",
   "execution_count": 33,
   "metadata": {
    "collapsed": false
   },
   "outputs": [
    {
     "data": {
      "text/plain": [
       "(0, 0)"
      ]
     },
     "execution_count": 33,
     "metadata": {},
     "output_type": "execute_result"
    }
   ],
   "source": [
    "len(sf[sf['title'] == None]), len(sf[sf['text'] == None])"
   ]
  },
  {
   "cell_type": "markdown",
   "metadata": {},
   "source": [
    "## Now we will get the images!"
   ]
  },
  {
   "cell_type": "code",
   "execution_count": 34,
   "metadata": {
    "collapsed": true
   },
   "outputs": [],
   "source": [
    "def get_image(url):\n",
    "    try:\n",
    "        \n",
    "        # Graphlab makes it pretty easy to get an image if you know its url!\n",
    "        img = gl.Image(url)\n",
    "        return img\n",
    "    \n",
    "    except Exception as e:\n",
    "        print \"{}: {} occured at url: \\t{} \".format(type(e), e, url)  \n",
    "        return None"
   ]
  },
  {
   "cell_type": "code",
   "execution_count": 35,
   "metadata": {
    "collapsed": true
   },
   "outputs": [],
   "source": [
    "# this is how you could do it at home, but we have little time so I will load cached version\n",
    "# sf['image'] = sf['top_image'].apply(get_image)\n",
    "# sf.__materialize__()\n",
    "# sf.save('meetml_enriched_with_images')\n",
    "sf = gl.load_sframe('meetml_enriched_with_images')"
   ]
  },
  {
   "cell_type": "markdown",
   "metadata": {},
   "source": [
    "### We will now remove the samples that are missing either the text or image data."
   ]
  },
  {
   "cell_type": "code",
   "execution_count": 36,
   "metadata": {
    "collapsed": true
   },
   "outputs": [],
   "source": [
    "sf = sf.dropna(['image', 'title', 'text'])"
   ]
  },
  {
   "cell_type": "markdown",
   "metadata": {},
   "source": [
    "So far we did fairly standard data acquisition and munging. It was nice and simple, which is how it should be, but it did not make your inner data nerd get ecstatic. Well this is about to change. "
   ]
  },
  {
   "cell_type": "markdown",
   "metadata": {},
   "source": [
    "# 3. Deep learning for computer vision -  motivating example"
   ]
  },
  {
   "cell_type": "code",
   "execution_count": 37,
   "metadata": {
    "collapsed": false
   },
   "outputs": [
    {
     "data": {
      "text/html": [
       "<img style='width: 900px; margin: 0px; float: left; border: 1px solid grey;' src='https://qph.is.quoracdn.net/main-qimg-1ffdced24c9bcd4681ef896b09d82699?convert_to_webp=true'/>"
      ],
      "text/plain": [
       "<IPython.core.display.HTML object>"
      ]
     },
     "execution_count": 37,
     "metadata": {},
     "output_type": "execute_result"
    }
   ],
   "source": [
    "template = \"<img style='width: 900px; margin: 0px; float: left; border: 1px solid grey;' src='{img}'/>\"\n",
    "HTML(template.format(img='https://qph.is.quoracdn.net/main-qimg-1ffdced24c9bcd4681ef896b09d82699?convert_to_webp=true'))"
   ]
  },
  {
   "cell_type": "markdown",
   "metadata": {},
   "source": [
    "#### I don't have GPUs on my server so no way I could demo training a deep learning model, but I can show you what they are used for and how you can train them yourself if you have GPUs."
   ]
  },
  {
   "cell_type": "markdown",
   "metadata": {},
   "source": [
    "##[Example usecase - photo tagging](http://phototag.herokuapp.com/)\n",
    "\n",
    "###[You can learn how it was done](https://dato.com/learn/gallery/notebooks/build_imagenet_deeplearning.html)\n",
    "\n",
    "### Dato gives you pretrained models so you can recreate this use case without GPU"
   ]
  },
  {
   "cell_type": "markdown",
   "metadata": {},
   "source": [
    "\n",
    "\n",
    "Let's say you always marveled at the power of [deep learning](http://radar.oreilly.com/2014/07/what-is-deep-learning-and-why-should-you-care.html) but never had the means to use it. You may not have a GPU cluster at your disposal and the concept of convolution layers sounds very convoluted. With transfer learning you don't have to worry about any of this to take advantage of deep learning.\n",
    "\n",
    "The idea of transfer learning is beautifully simple. We take an existing network, best one used for a really challenging task such as image net. We strip away the last layer that is responsible for the final classification (i.e. the one deciding weather the picture we feed it is of a dog, a cat or a chair) and use the output of the layer that precedes it. By doing this we get a dense vector of high level, abstract features of the image that we can use with any down-stream classifier, clustering algorithm or outlier detection method and it almost guarantees you will get **far** better results than with using the raw image pixels. Have I spiked your interest? You should read more this [great post on transfer learning by Piotr from Dato](http://blog.dato.com/deep-learning-blog-post).  \n",
    "\n"
   ]
  },
  {
   "cell_type": "markdown",
   "metadata": {},
   "source": [
    "# 4. Transfer learning - motivating example\n",
    "\n",
    "##[Example usecase - image similarity recommeder for fashion ecommerce](http://fresh-image.s3-website-us-west-2.amazonaws.com/)"
   ]
  },
  {
   "cell_type": "markdown",
   "metadata": {},
   "source": [
    "# 5. Transfer learning, on our dataset - image similarity search"
   ]
  },
  {
   "cell_type": "markdown",
   "metadata": {},
   "source": [
    "### Let's use a pre-trained model you can download from Dato repository."
   ]
  },
  {
   "cell_type": "code",
   "execution_count": 38,
   "metadata": {
    "collapsed": false
   },
   "outputs": [],
   "source": [
    "# You can get the model for free from Dato's S3\n",
    "# dl_extraction_model = gl.load_model('http://s3.amazonaws.com/GraphLab-Datasets/deeplearning/imagenet_model_iter45')\n",
    "# dl_extraction_model.save('pretrained_imagenet_model')\n",
    "dl_extraction_model = gl.load_model('pretrained_imagenet_model')"
   ]
  },
  {
   "cell_type": "markdown",
   "metadata": {},
   "source": [
    "### We need to resize the images to the same dimensions as used with when traing the model we downloaded. Fortunately Graphlab makes it really easy."
   ]
  },
  {
   "cell_type": "code",
   "execution_count": 39,
   "metadata": {
    "collapsed": true
   },
   "outputs": [],
   "source": [
    "sf['image'] = gl.image_analysis.resize(sf['image'], 256, 256, 3)"
   ]
  },
  {
   "cell_type": "markdown",
   "metadata": {},
   "source": [
    "### Now we can use the pre-trained network to extract features from article images."
   ]
  },
  {
   "cell_type": "code",
   "execution_count": 40,
   "metadata": {
    "collapsed": true
   },
   "outputs": [],
   "source": [
    "# %%time\n",
    "# sf['image_features'] = dl_extraction_model.extract_features(sf[['image']])\n",
    "# sf.save('meetml_final')\n",
    "# CPU times: user 5min 12s, sys: 0 ns, total: 5min 12s\n",
    "# Wall time: 3min 49s"
   ]
  },
  {
   "cell_type": "code",
   "execution_count": 41,
   "metadata": {
    "collapsed": false
   },
   "outputs": [],
   "source": [
    "sf = gl.load_sframe('meetml_final')"
   ]
  },
  {
   "cell_type": "code",
   "execution_count": 42,
   "metadata": {
    "collapsed": false
   },
   "outputs": [
    {
     "data": {
      "text/html": [
       "<pre>Starting brute force nearest neighbors model training.</pre>"
      ],
      "text/plain": [
       "Starting brute force nearest neighbors model training."
      ]
     },
     "metadata": {},
     "output_type": "display_data"
    }
   ],
   "source": [
    "nn = gl.nearest_neighbors.create(sf, label='top_image', features=['image_features'], distance='manhattan')"
   ]
  },
  {
   "cell_type": "code",
   "execution_count": 43,
   "metadata": {
    "collapsed": false
   },
   "outputs": [
    {
     "data": {
      "text/html": [
       "<pre>Starting pairwise querying.</pre>"
      ],
      "text/plain": [
       "Starting pairwise querying."
      ]
     },
     "metadata": {},
     "output_type": "display_data"
    },
    {
     "data": {
      "text/html": [
       "<pre>+--------------+---------+-------------+--------------+</pre>"
      ],
      "text/plain": [
       "+--------------+---------+-------------+--------------+"
      ]
     },
     "metadata": {},
     "output_type": "display_data"
    },
    {
     "data": {
      "text/html": [
       "<pre>| Query points | # Pairs | % Complete. | Elapsed Time |</pre>"
      ],
      "text/plain": [
       "| Query points | # Pairs | % Complete. | Elapsed Time |"
      ]
     },
     "metadata": {},
     "output_type": "display_data"
    },
    {
     "data": {
      "text/html": [
       "<pre>+--------------+---------+-------------+--------------+</pre>"
      ],
      "text/plain": [
       "+--------------+---------+-------------+--------------+"
      ]
     },
     "metadata": {},
     "output_type": "display_data"
    },
    {
     "data": {
      "text/html": [
       "<pre>| 0            | 1       | 0.3003      | 1.652ms      |</pre>"
      ],
      "text/plain": [
       "| 0            | 1       | 0.3003      | 1.652ms      |"
      ]
     },
     "metadata": {},
     "output_type": "display_data"
    },
    {
     "data": {
      "text/html": [
       "<pre>| Done         |         | 100         | 20.519ms     |</pre>"
      ],
      "text/plain": [
       "| Done         |         | 100         | 20.519ms     |"
      ]
     },
     "metadata": {},
     "output_type": "display_data"
    },
    {
     "data": {
      "text/html": [
       "<pre>+--------------+---------+-------------+--------------+</pre>"
      ],
      "text/plain": [
       "+--------------+---------+-------------+--------------+"
      ]
     },
     "metadata": {},
     "output_type": "display_data"
    },
    {
     "data": {
      "text/html": [
       "<div style=\"max-height:1000px;max-width:1500px;overflow:auto;\"><table frame=\"box\" rules=\"cols\">\n",
       "    <tr>\n",
       "        <th style=\"padding-left: 1em; padding-right: 1em; text-align: center\">query_label</th>\n",
       "        <th style=\"padding-left: 1em; padding-right: 1em; text-align: center\">reference_label</th>\n",
       "        <th style=\"padding-left: 1em; padding-right: 1em; text-align: center\">distance</th>\n",
       "        <th style=\"padding-left: 1em; padding-right: 1em; text-align: center\">rank</th>\n",
       "    </tr>\n",
       "    <tr>\n",
       "        <td style=\"padding-left: 1em; padding-right: 1em; text-align: center; vertical-align: top\">0</td>\n",
       "        <td style=\"padding-left: 1em; padding-right: 1em; text-align: center; vertical-align: top\">http://rack.2.mshcdn.com/<br>media/ZgkyMDEzLzAyLzI ...</td>\n",
       "        <td style=\"padding-left: 1em; padding-right: 1em; text-align: center; vertical-align: top\">0.0</td>\n",
       "        <td style=\"padding-left: 1em; padding-right: 1em; text-align: center; vertical-align: top\">1</td>\n",
       "    </tr>\n",
       "    <tr>\n",
       "        <td style=\"padding-left: 1em; padding-right: 1em; text-align: center; vertical-align: top\">0</td>\n",
       "        <td style=\"padding-left: 1em; padding-right: 1em; text-align: center; vertical-align: top\">http://rack.1.mshcdn.com/<br>media/ZgkyMDEzLzA2LzE ...</td>\n",
       "        <td style=\"padding-left: 1em; padding-right: 1em; text-align: center; vertical-align: top\">1569.90339392</td>\n",
       "        <td style=\"padding-left: 1em; padding-right: 1em; text-align: center; vertical-align: top\">2</td>\n",
       "    </tr>\n",
       "    <tr>\n",
       "        <td style=\"padding-left: 1em; padding-right: 1em; text-align: center; vertical-align: top\">0</td>\n",
       "        <td style=\"padding-left: 1em; padding-right: 1em; text-align: center; vertical-align: top\">http://rack.0.mshcdn.com/<br>media/ZgkyMDE0LzA5LzE ...</td>\n",
       "        <td style=\"padding-left: 1em; padding-right: 1em; text-align: center; vertical-align: top\">1625.51412633</td>\n",
       "        <td style=\"padding-left: 1em; padding-right: 1em; text-align: center; vertical-align: top\">3</td>\n",
       "    </tr>\n",
       "</table>\n",
       "[3 rows x 4 columns]<br/>\n",
       "</div>"
      ],
      "text/plain": [
       "Columns:\n",
       "\tquery_label\tint\n",
       "\treference_label\tstr\n",
       "\tdistance\tfloat\n",
       "\trank\tint\n",
       "\n",
       "Rows: 3\n",
       "\n",
       "Data:\n",
       "+-------------+-------------------------------+---------------+------+\n",
       "| query_label |        reference_label        |    distance   | rank |\n",
       "+-------------+-------------------------------+---------------+------+\n",
       "|      0      | http://rack.2.mshcdn.com/m... |      0.0      |  1   |\n",
       "|      0      | http://rack.1.mshcdn.com/m... | 1569.90339392 |  2   |\n",
       "|      0      | http://rack.0.mshcdn.com/m... | 1625.51412633 |  3   |\n",
       "+-------------+-------------------------------+---------------+------+\n",
       "[3 rows x 4 columns]"
      ]
     },
     "execution_count": 43,
     "metadata": {},
     "output_type": "execute_result"
    }
   ],
   "source": [
    "nn.query(sf[21:22], k=3)"
   ]
  },
  {
   "cell_type": "code",
   "execution_count": 44,
   "metadata": {
    "collapsed": false
   },
   "outputs": [
    {
     "data": {
      "text/html": [
       "<p>http://rack.3.mshcdn.com/media/ZgkyMDEzLzEwLzA4LzRiL0JlTHV2di4zMGVkMC5qcGcKcAl0aHVtYgkxMjAweDYyNyMKZQlqcGc/91d50223/85d/BeLuvv.jpg</p><img style='width: 300px; margin: 0px; float: left; border: 1px solid grey;' src='http://rack.3.mshcdn.com/media/ZgkyMDEzLzEwLzA4LzRiL0JlTHV2di4zMGVkMC5qcGcKcAl0aHVtYgkxMjAweDYyNyMKZQlqcGc/91d50223/85d/BeLuvv.jpg'/><p>http://rack.0.mshcdn.com/media/ZgkyMDE0LzEyLzA4Lzg2L1Ntb2tlci5lOWU1NS5qcGcKcAl0aHVtYgkxMjAweDYyNyMKZQlqcGc/6724aaaa/32e/Smoker.jpg</p><img style='width: 300px; margin: 0px; float: left; border: 1px solid grey;' src='http://rack.0.mshcdn.com/media/ZgkyMDE0LzEyLzA4Lzg2L1Ntb2tlci5lOWU1NS5qcGcKcAl0aHVtYgkxMjAweDYyNyMKZQlqcGc/6724aaaa/32e/Smoker.jpg'/><p>http://rack.2.mshcdn.com/media/ZgkyMDEzLzEyLzAzLzc2L2hvbGRpbmdoYW5kLmU5ZjA4LmpwZwpwCXRodW1iCTEyMDB4NjI3IwplCWpwZw/429a01c7/789/holding-hand.jpg</p><img style='width: 300px; margin: 0px; float: left; border: 1px solid grey;' src='http://rack.2.mshcdn.com/media/ZgkyMDEzLzEyLzAzLzc2L2hvbGRpbmdoYW5kLmU5ZjA4LmpwZwpwCXRodW1iCTEyMDB4NjI3IwplCWpwZw/429a01c7/789/holding-hand.jpg'/><p>http://rack.2.mshcdn.com/media/ZgkyMDEzLzAyLzIyL2UwL21lZHMuZjYwYWUuanBnCnAJdGh1bWIJMTIwMHg2MjcjCmUJanBn/831a735f/052/meds.jpg</p><img style='width: 300px; margin: 0px; float: left; border: 1px solid grey;' src='http://rack.2.mshcdn.com/media/ZgkyMDEzLzAyLzIyL2UwL21lZHMuZjYwYWUuanBnCnAJdGh1bWIJMTIwMHg2MjcjCmUJanBn/831a735f/052/meds.jpg'/><p>http://rack.1.mshcdn.com/media/ZgkyMDEzLzA2LzE3LzAyL2ZhdGhlcnNkYXlzLjAwMDM2LmpwZwpwCXRodW1iCTEyMDB4NjI3IwplCWpwZw/888f5813/fb4/fathersdaysongs.jpg</p><img style='width: 300px; margin: 0px; float: left; border: 1px solid grey;' src='http://rack.1.mshcdn.com/media/ZgkyMDEzLzA2LzE3LzAyL2ZhdGhlcnNkYXlzLjAwMDM2LmpwZwpwCXRodW1iCTEyMDB4NjI3IwplCWpwZw/888f5813/fb4/fathersdaysongs.jpg'/>"
      ],
      "text/plain": [
       "<IPython.core.display.HTML object>"
      ]
     },
     "execution_count": 44,
     "metadata": {},
     "output_type": "execute_result"
    }
   ],
   "source": [
    "test_image = 'http://rack.3.mshcdn.com/media/ZgkyMDEzLzEwLzA4LzRiL0JlTHV2di4zMGVkMC5qcGcKcAl0aHVtYgkxMjAweDYyNyMKZQlqcGc/91d50223/85d/BeLuvv.jpg'\n",
    "template = \"<p>{url}</p><img style='width: 300px; margin: 0px; float: left; border: 1px solid grey;' src='{img}'/>\"\n",
    "html_parts = []\n",
    "for neighbor in nn.query(sf[sf['top_image'] == test_image], k=5, verbose=False):\n",
    "    html_parts.append(template.format(url=neighbor['reference_label'], img=neighbor['reference_label']))\n",
    "HTML(\"\".join(html_parts))"
   ]
  },
  {
   "cell_type": "code",
   "execution_count": 45,
   "metadata": {
    "collapsed": false
   },
   "outputs": [
    {
     "data": {
      "text/html": [
       "<p>http://rack.0.mshcdn.com/media/ZgkyMDEzLzAzLzI4LzgwL2tpbmRsZXBhcGVyLmU2N2ViLmpwZwpwCXRodW1iCTEyMDB4NjI3IwplCWpwZw/81b4b254/cca/kindle-paperwhite.jpg</p><img style='width: 300px; margin: 0px; float: left; border: 1px solid grey;' src='http://rack.0.mshcdn.com/media/ZgkyMDEzLzAzLzI4LzgwL2tpbmRsZXBhcGVyLmU2N2ViLmpwZwpwCXRodW1iCTEyMDB4NjI3IwplCWpwZw/81b4b254/cca/kindle-paperwhite.jpg'/><p>http://rack.1.mshcdn.com/media/ZgkyMDE0LzA0LzI0LzIxL0luc3RhZ3JhbTMuMjg2ZmEuanBnCnAJdGh1bWIJMTIwMHg2MjcjCmUJanBn/07aa863c/f78/Instagram-3.jpg</p><img style='width: 300px; margin: 0px; float: left; border: 1px solid grey;' src='http://rack.1.mshcdn.com/media/ZgkyMDE0LzA0LzI0LzIxL0luc3RhZ3JhbTMuMjg2ZmEuanBnCnAJdGh1bWIJMTIwMHg2MjcjCmUJanBn/07aa863c/f78/Instagram-3.jpg'/><p>http://rack.3.mshcdn.com/media/ZgkyMDE0LzA0LzIyLzcyL0dvb2dsZV9BcHAxLjU4NDg0LmpwZwpwCXRodW1iCTEyMDB4NjI3IwplCWpwZw/f721fede/260/Google_App-1.jpg</p><img style='width: 300px; margin: 0px; float: left; border: 1px solid grey;' src='http://rack.3.mshcdn.com/media/ZgkyMDE0LzA0LzIyLzcyL0dvb2dsZV9BcHAxLjU4NDg0LmpwZwpwCXRodW1iCTEyMDB4NjI3IwplCWpwZw/f721fede/260/Google_App-1.jpg'/><p>http://rack.0.mshcdn.com/media/ZgkyMDEzLzEwLzE0LzQ1L2lwaG9uZTVjMS41YmQwYy5qcGcKcAl0aHVtYgkxMjAweDYyNyMKZQlqcGc/5abe8b64/98e/iphone-5c1.jpg</p><img style='width: 300px; margin: 0px; float: left; border: 1px solid grey;' src='http://rack.0.mshcdn.com/media/ZgkyMDEzLzEwLzE0LzQ1L2lwaG9uZTVjMS41YmQwYy5qcGcKcAl0aHVtYgkxMjAweDYyNyMKZQlqcGc/5abe8b64/98e/iphone-5c1.jpg'/><p>http://rack.0.mshcdn.com/media/ZgkyMDEzLzA0LzE4LzQ4L3RleHRib29rcy5mMWJiOC5qcGcKcAl0aHVtYgkxMjAweDYyNyMKZQlqcGc/5c0a6310/0a9/textbooks-.jpg</p><img style='width: 300px; margin: 0px; float: left; border: 1px solid grey;' src='http://rack.0.mshcdn.com/media/ZgkyMDEzLzA0LzE4LzQ4L3RleHRib29rcy5mMWJiOC5qcGcKcAl0aHVtYgkxMjAweDYyNyMKZQlqcGc/5c0a6310/0a9/textbooks-.jpg'/>"
      ],
      "text/plain": [
       "<IPython.core.display.HTML object>"
      ]
     },
     "execution_count": 45,
     "metadata": {},
     "output_type": "execute_result"
    }
   ],
   "source": [
    "template = \"<p>{url}</p><img style='width: 300px; margin: 0px; float: left; border: 1px solid grey;' src='{img}'/>\"\n",
    "html_parts = []\n",
    "for neighbor in nn.query(sf[43:44], k=5, verbose=False):\n",
    "    html_parts.append(template.format(url=neighbor['reference_label'], img=neighbor['reference_label']))\n",
    "HTML(\"\".join(html_parts))"
   ]
  },
  {
   "cell_type": "markdown",
   "metadata": {},
   "source": [
    "###Wow that was fast for having a stat-of-the art way of working with image data! \n",
    "####You can easily make this into a web service, but that is something for another talk. "
   ]
  },
  {
   "cell_type": "markdown",
   "metadata": {},
   "source": [
    "# 6. NLP for the lazy - word embeddings (word2vec)"
   ]
  },
  {
   "cell_type": "markdown",
   "metadata": {},
   "source": [
    "## Word2Vec motivation - Dimensionality reduction\n",
    "\n",
    "Dimensionality reduction methods try to transform (embed) a large set of features (dimensions) into a smaller set while retaining the maximum variance of the original set or preserving the distance between samples. \n",
    "\n",
    "##Specialized methods for text:\n",
    "\n",
    "### 1. Topic modeling,\n",
    "\n",
    "that treat each document as a collection of words and try to approximate a distribution of a fixed number of abstract, latent \"topics\" that define the likelihood of seeing certain words in a given document. For example if the topic \"sport\" has high value there is a high likelihood that the document will contain words like \"game\", \"player\", \"win\". Common methods include Latent Semantic Indexing (LSI), Latent Dirchlet Allocation (LDA) which can be \"backed\" by different algorithms often related to the general purpose methods, for example it is common to use truncated SVD for LSI.\n",
    "\n",
    "\n",
    "###2. Word embedding,\n",
    "\n",
    "that attempts to model each word as a dense numeric vector. Word embedding captures relationships between words - similar words have similar vectors, vectors often follow intuitive and powerful algebraic operations, such as $V(king) + V(woman) - V(man) \\approx V(queen)$ and similar documents have similar average vectors. Common and hyped models include [word2vec](http://deeplearning4j.org/word2vec) and doc2vec and can be created using different algorithms. A common (but not optimal) method of dimensionality reduction for bag-of-words features is to average the vectors of each word in a given bag. \n",
    "\n",
    "## Enough theory! Let's go where the hype is and try to use word2vec!  \n",
    "### Btw. word2vec is so 2013, you should check out sense2vec, doc2vec & paragraph2vec\n",
    "\n",
    "To spare some time and effort we are not going to create a model from scratch but rather use a pre-trained model provided by Google. This model is created using the Google News dataset which is very appropriate to our use case. It transforms each word to a dense vector of 300 features. \n",
    "\n",
    "If you have only console access to the machine you are running this notebook on you can download it from my Google Drive with \n",
    "\n",
    "`wget https://www.googledrive.com/host/0B7XkCwpI5KDYNlNUTTlSS21pQmM`\n",
    "\n",
    "and rename with \n",
    "\n",
    "`mv 0B7XkCwpI5KDYNlNUTTlSS21pQmM word2vec300.bin.gz`.\n",
    "\n",
    "In a desktop environment just use [this link](https://www.googledrive.com/host/0B7XkCwpI5KDYNlNUTTlSS21pQmM) and rename the file manually. The model over 1.5GB so downloading it may take a while. \n",
    "\n",
    "Now you can use [gensim](http://radimrehurek.com/gensim/index.html) (`pip install gensim`) to load and use the word2vec model:"
   ]
  },
  {
   "cell_type": "code",
   "execution_count": 46,
   "metadata": {
    "collapsed": true
   },
   "outputs": [],
   "source": [
    "from gensim.models.word2vec import Word2Vec\n",
    "word2vec = Word2Vec.load_word2vec_format('word2vec300.bin.gz', binary=True)"
   ]
  },
  {
   "cell_type": "markdown",
   "metadata": {},
   "source": [
    "Loading this particular model will take up about 5.5 GB of your RAM. Make sure you have it available! \n",
    "\n",
    "Let us see if it works, and try to get the first 10 position of the vector representing the word \"feaure\":"
   ]
  },
  {
   "cell_type": "code",
   "execution_count": 47,
   "metadata": {
    "collapsed": false
   },
   "outputs": [
    {
     "data": {
      "text/plain": [
       "array([ 0.25585938, -0.02209473,  0.02905273,  0.05444336, -0.07421875,\n",
       "        0.35351562, -0.06347656,  0.14453125,  0.07226562,  0.10009766], dtype=float32)"
      ]
     },
     "execution_count": 47,
     "metadata": {},
     "output_type": "execute_result"
    }
   ],
   "source": [
    "word2vec['machine'][:10]"
   ]
  },
  {
   "cell_type": "markdown",
   "metadata": {},
   "source": [
    "It works like a charm! Let's see what else we can do. **Caution!** you will need **additional 5GB** of RAM to try below examples, they are not necessary to progress with the notebook so you can skip them."
   ]
  },
  {
   "cell_type": "code",
   "execution_count": 48,
   "metadata": {
    "collapsed": false
   },
   "outputs": [
    {
     "data": {
      "text/plain": [
       "(0.10929019764586524, 0.76094570897822089, 0.71647854139756406)"
      ]
     },
     "execution_count": 48,
     "metadata": {},
     "output_type": "execute_result"
    }
   ],
   "source": [
    "word2vec.similarity('dog', 'machine'), word2vec.similarity('dog', 'cat'), word2vec.similarity('dog', 'pet')"
   ]
  },
  {
   "cell_type": "code",
   "execution_count": 49,
   "metadata": {
    "collapsed": false
   },
   "outputs": [
    {
     "data": {
      "text/plain": [
       "[(u'queen', 0.7118191719055176),\n",
       " (u'monarch', 0.6189674139022827),\n",
       " (u'princess', 0.5902431011199951),\n",
       " (u'crown_prince', 0.5499460697174072),\n",
       " (u'prince', 0.5377321243286133),\n",
       " (u'kings', 0.5236844420433044),\n",
       " (u'Queen_Consort', 0.5235945582389832),\n",
       " (u'queens', 0.5181134343147278),\n",
       " (u'sultan', 0.5098593235015869),\n",
       " (u'monarchy', 0.5087411403656006)]"
      ]
     },
     "execution_count": 49,
     "metadata": {},
     "output_type": "execute_result"
    }
   ],
   "source": [
    "word2vec.most_similar(positive=['woman', 'king'], negative=['man'])"
   ]
  },
  {
   "cell_type": "code",
   "execution_count": 50,
   "metadata": {
    "collapsed": false
   },
   "outputs": [
    {
     "data": {
      "text/plain": [
       "'computers'"
      ]
     },
     "execution_count": 50,
     "metadata": {},
     "output_type": "execute_result"
    }
   ],
   "source": [
    "word2vec.doesnt_match('I eat vegtables because I am vegan and I love computers'.split())"
   ]
  },
  {
   "cell_type": "markdown",
   "metadata": {},
   "source": [
    "###What if we are even lazier? And do not want to create document vectors by hand?\n",
    "\n",
    "Fortunately there are plenty of fish in sea of word embedding. One newcomer is `spacy` an highly optimized NLP library that supports word embedding out of the box with [GloVe](http://nlp.stanford.edu/projects/glove/) pre-trained vectors. Why not give it a try? It hase a great advantage for our usecase as it is not case sensitive and the authors of mashable like to overuse capital letters in titles. (Also it uses much less RAM)"
   ]
  },
  {
   "cell_type": "code",
   "execution_count": 51,
   "metadata": {
    "collapsed": true
   },
   "outputs": [],
   "source": [
    "from spacy.en import English\n",
    "nlp = English()"
   ]
  },
  {
   "cell_type": "code",
   "execution_count": 52,
   "metadata": {
    "collapsed": false
   },
   "outputs": [
    {
     "name": "stdout",
     "output_type": "stream",
     "text": [
      "CPU times: user 14 s, sys: 0 ns, total: 14 s\n",
      "Wall time: 13.7 s\n"
     ]
    }
   ],
   "source": [
    "%%time\n",
    "sf['text_vec'] = [nlp(t.decode('utf-8')).vector for t in sf['text']]"
   ]
  },
  {
   "cell_type": "code",
   "execution_count": 53,
   "metadata": {
    "collapsed": false
   },
   "outputs": [
    {
     "data": {
      "text/html": [
       "<pre>Starting brute force nearest neighbors model training.</pre>"
      ],
      "text/plain": [
       "Starting brute force nearest neighbors model training."
      ]
     },
     "metadata": {},
     "output_type": "display_data"
    }
   ],
   "source": [
    "spacy_nn = gl.nearest_neighbors.create(sf, label='title', features=['text_vec'], distance='manhattan')"
   ]
  },
  {
   "cell_type": "code",
   "execution_count": 54,
   "metadata": {
    "collapsed": false
   },
   "outputs": [
    {
     "name": "stdout",
     "output_type": "stream",
     "text": [
      "+-------------+---------------------------------------------------------------------+----------------+------+\n",
      "| query_label |                           reference_label                           |    distance    | rank |\n",
      "+-------------+---------------------------------------------------------------------+----------------+------+\n",
      "|      0      | Coders and Government Join Forces for National Day of Civic Hacking |      0.0       |  1   |\n",
      "|      0      |       5 Social Apps To Encourage Employee Health and Wellness       | 0.826666918328 |  2   |\n",
      "|      0      |              Women's Studies Programs Are Failing Women             | 0.842715526801 |  3   |\n",
      "|      0      |        How J.J. Abrams Uses Entertainment to Drive Awareness        | 0.887846610373 |  4   |\n",
      "|      0      |                     Everything You Need to Know                     | 0.888475138917 |  5   |\n",
      "+-------------+---------------------------------------------------------------------+----------------+------+\n",
      "[5 rows x 4 columns]\n",
      "\n"
     ]
    }
   ],
   "source": [
    "spacy_nn.query(sf[66:67], verbose=False).print_rows(400, 400, 400)"
   ]
  },
  {
   "cell_type": "code",
   "execution_count": 55,
   "metadata": {
    "collapsed": false
   },
   "outputs": [
    {
     "name": "stdout",
     "output_type": "stream",
     "text": [
      "+-------------+----------------------------------------------------------------+----------------+------+\n",
      "| query_label |                        reference_label                         |    distance    | rank |\n",
      "+-------------+----------------------------------------------------------------+----------------+------+\n",
      "|      0      |                   Amazon Acquires Goodreads                    |      0.0       |  1   |\n",
      "|      0      |           MashableReads is Your New Social Book Club           | 0.89965026004  |  2   |\n",
      "|      0      |            A Gift to Google+ on Its Third Birthday             | 0.937591119669 |  3   |\n",
      "|      0      | OpenTable Buys Foodspotting For $10 Million to Get More Social | 0.942475709933 |  4   |\n",
      "|      0      |         8 Apps to Help You Get More Done in Less Time          |  1.0152302495  |  5   |\n",
      "+-------------+----------------------------------------------------------------+----------------+------+\n",
      "[5 rows x 4 columns]\n",
      "\n"
     ]
    }
   ],
   "source": [
    "spacy_nn.query(sf[43:44], verbose=False).print_rows(400, 400, 400)"
   ]
  },
  {
   "cell_type": "markdown",
   "metadata": {},
   "source": [
    "## Thats it! Hope you enjoyed this little taste of ML!"
   ]
  },
  {
   "cell_type": "code",
   "execution_count": null,
   "metadata": {
    "collapsed": true
   },
   "outputs": [],
   "source": []
  }
 ],
 "metadata": {
  "kernelspec": {
   "display_name": "Python 2",
   "language": "python",
   "name": "python2"
  },
  "language_info": {
   "codemirror_mode": {
    "name": "ipython",
    "version": 2
   },
   "file_extension": ".py",
   "mimetype": "text/x-python",
   "name": "python",
   "nbconvert_exporter": "python",
   "pygments_lexer": "ipython2",
   "version": "2.7.6"
  }
 },
 "nbformat": 4,
 "nbformat_minor": 0
}
